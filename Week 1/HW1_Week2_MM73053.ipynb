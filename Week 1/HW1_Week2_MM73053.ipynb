{
  "nbformat": 4,
  "nbformat_minor": 0,
  "metadata": {
    "colab": {
      "name": "MM73053.ipynb",
      "provenance": []
    },
    "kernelspec": {
      "name": "python3",
      "display_name": "Python 3"
    }
  },
  "cells": [
    {
      "cell_type": "markdown",
      "metadata": {
        "id": "vIWpOAywwRwT"
      },
      "source": [
        "\r\n",
        "**Homework - MM73053**\r\n",
        "\r\n",
        "Generate two random numbers between 0 and 100\r\n",
        "\r\n",
        "*   Get a random operation\r\n",
        "*   Print the statement\r\n",
        "*   Get a random operation\r\n",
        "*   Get the input from the user\r\n",
        "* Validate the answer\r\n",
        "\r\n",
        "eg: \r\n",
        "4 + 2 = ?\r\n",
        "\r\n",
        ">> 22 (user input)\r\n",
        "That's incorrect"
      ]
    },
    {
      "cell_type": "code",
      "metadata": {
        "id": "WyZHfKmMGR3f",
        "colab": {
          "base_uri": "https://localhost:8080/"
        },
        "outputId": "1278e35d-9527-4afc-9949-0d7225c76f60"
      },
      "source": [
        "import random #importing random \r\n",
        "X =random.randint(1,100) #Assigning value to X\r\n",
        "Y=random.randint(1,100) #Assigning value to Y\r\n",
        "op = random.choice(\"-+*\") # choosing random operator between -+*\r\n",
        "val = random.random()\r\n",
        "print('The value of X is',X) \r\n",
        "print('The value of Y is ',Y) \r\n",
        "result = eval( str(X) + op + str(Y)) # Using Eval to solve the statement\r\n",
        "while(True) :\r\n",
        "  A = input('Enter the answer for X ' + op + ' Y = ')\r\n",
        "  if (result == int(A)) : # if user input is same as system result, then good  job ; else Try again\r\n",
        "    print('Good Job!! ')\r\n",
        "    break\r\n",
        "  else :\r\n",
        "    print('Wrong, Please try again ')\r\n",
        "\r\n"
      ],
      "execution_count": 76,
      "outputs": [
        {
          "output_type": "stream",
          "text": [
            "The value of X is 98\n",
            "The value of Y is  65\n",
            "Enter the answer for X + Y = 163\n",
            "Good Job!! \n"
          ],
          "name": "stdout"
        }
      ]
    }
  ]
}