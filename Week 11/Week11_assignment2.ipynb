{
 "cells": [
  {
   "cell_type": "code",
   "execution_count": 1,
   "metadata": {},
   "outputs": [],
   "source": [
    "import glob\n",
    "import os\n",
    "import regex\n",
    "import json\n",
    "import re"
   ]
  },
  {
   "cell_type": "code",
   "execution_count": 2,
   "metadata": {},
   "outputs": [],
   "source": [
    "pathname = 'C:\\\\Users\\\\lenovo\\\\Documents\\\\GitHub\\\\DS601_Spring21-main\\\\DS601_Spring21-main'"
   ]
  },
  {
   "cell_type": "code",
   "execution_count": 3,
   "metadata": {},
   "outputs": [],
   "source": [
    "path_glob = os.path.join(pathname, '**/*.ipynb')"
   ]
  },
  {
   "cell_type": "code",
   "execution_count": 4,
   "metadata": {
    "scrolled": true
   },
   "outputs": [
    {
     "name": "stdout",
     "output_type": "stream",
     "text": [
      "['C:\\\\Users\\\\lenovo\\\\Documents\\\\GitHub\\\\DS601_Spring21-main\\\\DS601_Spring21-main\\\\Week1\\\\Challenge.ipynb', 'C:\\\\Users\\\\lenovo\\\\Documents\\\\GitHub\\\\DS601_Spring21-main\\\\DS601_Spring21-main\\\\Week1\\\\Homework-week1.ipynb', 'C:\\\\Users\\\\lenovo\\\\Documents\\\\GitHub\\\\DS601_Spring21-main\\\\DS601_Spring21-main\\\\Week1\\\\load_csv.ipynb', 'C:\\\\Users\\\\lenovo\\\\Documents\\\\GitHub\\\\DS601_Spring21-main\\\\DS601_Spring21-main\\\\Week1\\\\load_json.ipynb', 'C:\\\\Users\\\\lenovo\\\\Documents\\\\GitHub\\\\DS601_Spring21-main\\\\DS601_Spring21-main\\\\Week1\\\\load_xml.ipynb', 'C:\\\\Users\\\\lenovo\\\\Documents\\\\GitHub\\\\DS601_Spring21-main\\\\DS601_Spring21-main\\\\Week1\\\\Untitled.ipynb', 'C:\\\\Users\\\\lenovo\\\\Documents\\\\GitHub\\\\DS601_Spring21-main\\\\DS601_Spring21-main\\\\Week1\\\\Week1 - Some basics.ipynb', 'C:\\\\Users\\\\lenovo\\\\Documents\\\\GitHub\\\\DS601_Spring21-main\\\\DS601_Spring21-main\\\\Week10\\\\homework\\\\Homework10 Part1 Solution.ipynb', 'C:\\\\Users\\\\lenovo\\\\Documents\\\\GitHub\\\\DS601_Spring21-main\\\\DS601_Spring21-main\\\\Week10\\\\homework\\\\Homework10 Part2 Solution.ipynb', 'C:\\\\Users\\\\lenovo\\\\Documents\\\\GitHub\\\\DS601_Spring21-main\\\\DS601_Spring21-main\\\\Week10\\\\notebooks\\\\1_dir_help_tab_completion.ipynb', 'C:\\\\Users\\\\lenovo\\\\Documents\\\\GitHub\\\\DS601_Spring21-main\\\\DS601_Spring21-main\\\\Week10\\\\notebooks\\\\2_debugging_Python.ipynb', 'C:\\\\Users\\\\lenovo\\\\Documents\\\\GitHub\\\\DS601_Spring21-main\\\\DS601_Spring21-main\\\\Week10\\\\notebooks\\\\3_use_a_function_in_a_notebook.ipynb', 'C:\\\\Users\\\\lenovo\\\\Documents\\\\GitHub\\\\DS601_Spring21-main\\\\DS601_Spring21-main\\\\Week10\\\\notebooks\\\\4_jakevdp_kmeans_iterations.ipynb', 'C:\\\\Users\\\\lenovo\\\\Documents\\\\GitHub\\\\DS601_Spring21-main\\\\DS601_Spring21-main\\\\Week10\\\\notebooks\\\\4_jakevdp_kmeans_iterations_elbow.ipynb', 'C:\\\\Users\\\\lenovo\\\\Documents\\\\GitHub\\\\DS601_Spring21-main\\\\DS601_Spring21-main\\\\Week10\\\\notebooks\\\\5_introduction_to_regular_expressions.ipynb', 'C:\\\\Users\\\\lenovo\\\\Documents\\\\GitHub\\\\DS601_Spring21-main\\\\DS601_Spring21-main\\\\Week10\\\\notebooks\\\\6_nltk_for_text_processing.ipynb', 'C:\\\\Users\\\\lenovo\\\\Documents\\\\GitHub\\\\DS601_Spring21-main\\\\DS601_Spring21-main\\\\Week10\\\\notebooks\\\\7_tfidf.ipynb', 'C:\\\\Users\\\\lenovo\\\\Documents\\\\GitHub\\\\DS601_Spring21-main\\\\DS601_Spring21-main\\\\Week10\\\\notebooks\\\\classes_subclasses.ipynb', 'C:\\\\Users\\\\lenovo\\\\Documents\\\\GitHub\\\\DS601_Spring21-main\\\\DS601_Spring21-main\\\\Week11\\\\testFile.ipynb', 'C:\\\\Users\\\\lenovo\\\\Documents\\\\GitHub\\\\DS601_Spring21-main\\\\DS601_Spring21-main\\\\Week11\\\\notebooks\\\\1_graphviz_for_static_graph_visualization.ipynb', 'C:\\\\Users\\\\lenovo\\\\Documents\\\\GitHub\\\\DS601_Spring21-main\\\\DS601_Spring21-main\\\\Week11\\\\notebooks\\\\2_networkx.ipynb', 'C:\\\\Users\\\\lenovo\\\\Documents\\\\GitHub\\\\DS601_Spring21-main\\\\DS601_Spring21-main\\\\Week11\\\\notebooks\\\\3_pycallgraph.ipynb', 'C:\\\\Users\\\\lenovo\\\\Documents\\\\GitHub\\\\DS601_Spring21-main\\\\DS601_Spring21-main\\\\Week11\\\\notebooks\\\\4_files_and_folders.ipynb', 'C:\\\\Users\\\\lenovo\\\\Documents\\\\GitHub\\\\DS601_Spring21-main\\\\DS601_Spring21-main\\\\Week11\\\\notebooks\\\\Movie Graph.ipynb', 'C:\\\\Users\\\\lenovo\\\\Documents\\\\GitHub\\\\DS601_Spring21-main\\\\DS601_Spring21-main\\\\Week11\\\\notebooks\\\\testFile.ipynb', 'C:\\\\Users\\\\lenovo\\\\Documents\\\\GitHub\\\\DS601_Spring21-main\\\\DS601_Spring21-main\\\\Week11\\\\notebooks\\\\Untitled.ipynb', 'C:\\\\Users\\\\lenovo\\\\Documents\\\\GitHub\\\\DS601_Spring21-main\\\\DS601_Spring21-main\\\\Week11\\\\notebooks\\\\Week11_assignment2.ipynb', 'C:\\\\Users\\\\lenovo\\\\Documents\\\\GitHub\\\\DS601_Spring21-main\\\\DS601_Spring21-main\\\\Week2\\\\bowling_visualization.ipynb', 'C:\\\\Users\\\\lenovo\\\\Documents\\\\GitHub\\\\DS601_Spring21-main\\\\DS601_Spring21-main\\\\Week2\\\\bowling_visualization_regex.ipynb', 'C:\\\\Users\\\\lenovo\\\\Documents\\\\GitHub\\\\DS601_Spring21-main\\\\DS601_Spring21-main\\\\Week2\\\\Homework-Week2-Solution.ipynb', 'C:\\\\Users\\\\lenovo\\\\Documents\\\\GitHub\\\\DS601_Spring21-main\\\\DS601_Spring21-main\\\\Week2\\\\Homework-Week2.ipynb', 'C:\\\\Users\\\\lenovo\\\\Documents\\\\GitHub\\\\DS601_Spring21-main\\\\DS601_Spring21-main\\\\Week2\\\\quiz_on_list_length_and_indexing.ipynb', 'C:\\\\Users\\\\lenovo\\\\Documents\\\\GitHub\\\\DS601_Spring21-main\\\\DS601_Spring21-main\\\\Week2\\\\timing_code_execution.ipynb', 'C:\\\\Users\\\\lenovo\\\\Documents\\\\GitHub\\\\DS601_Spring21-main\\\\DS601_Spring21-main\\\\Week2\\\\tuples_arrays_functions_summary.ipynb', 'C:\\\\Users\\\\lenovo\\\\Documents\\\\GitHub\\\\DS601_Spring21-main\\\\DS601_Spring21-main\\\\Week3\\\\Homework-Week3-Solution.ipynb', 'C:\\\\Users\\\\lenovo\\\\Documents\\\\GitHub\\\\DS601_Spring21-main\\\\DS601_Spring21-main\\\\Week3\\\\Homework-Week3.ipynb', 'C:\\\\Users\\\\lenovo\\\\Documents\\\\GitHub\\\\DS601_Spring21-main\\\\DS601_Spring21-main\\\\Week3\\\\Week3.ipynb', 'C:\\\\Users\\\\lenovo\\\\Documents\\\\GitHub\\\\DS601_Spring21-main\\\\DS601_Spring21-main\\\\Week3\\\\Classwork\\\\get_1_requests.ipynb', 'C:\\\\Users\\\\lenovo\\\\Documents\\\\GitHub\\\\DS601_Spring21-main\\\\DS601_Spring21-main\\\\Week3\\\\Classwork\\\\get_2_beautifulsoup.ipynb', 'C:\\\\Users\\\\lenovo\\\\Documents\\\\GitHub\\\\DS601_Spring21-main\\\\DS601_Spring21-main\\\\Week3\\\\Classwork\\\\get_3_table_requests_bs4_pandas.ipynb', 'C:\\\\Users\\\\lenovo\\\\Documents\\\\GitHub\\\\DS601_Spring21-main\\\\DS601_Spring21-main\\\\Week3\\\\Classwork\\\\get_4_requests_bs4_blocked_by_server.ipynb', 'C:\\\\Users\\\\lenovo\\\\Documents\\\\GitHub\\\\DS601_Spring21-main\\\\DS601_Spring21-main\\\\Week3\\\\Classwork\\\\get_5_requests_bs4_table_violates_robots.ipynb', 'C:\\\\Users\\\\lenovo\\\\Documents\\\\GitHub\\\\DS601_Spring21-main\\\\DS601_Spring21-main\\\\Week3\\\\Classwork\\\\text_1_extract_text_from_docx.ipynb', 'C:\\\\Users\\\\lenovo\\\\Documents\\\\GitHub\\\\DS601_Spring21-main\\\\DS601_Spring21-main\\\\Week3\\\\Classwork\\\\text_2_get_text_from_all_docx.ipynb', 'C:\\\\Users\\\\lenovo\\\\Documents\\\\GitHub\\\\DS601_Spring21-main\\\\DS601_Spring21-main\\\\Week3\\\\Classwork\\\\text_3_extract_text_from_pdf.ipynb', 'C:\\\\Users\\\\lenovo\\\\Documents\\\\GitHub\\\\DS601_Spring21-main\\\\DS601_Spring21-main\\\\Week4\\\\Classes.ipynb', 'C:\\\\Users\\\\lenovo\\\\Documents\\\\GitHub\\\\DS601_Spring21-main\\\\DS601_Spring21-main\\\\Week4\\\\cleaning_data\\\\loans_1_table_size.ipynb', 'C:\\\\Users\\\\lenovo\\\\Documents\\\\GitHub\\\\DS601_Spring21-main\\\\DS601_Spring21-main\\\\Week4\\\\cleaning_data\\\\loans_2_data_types.ipynb', 'C:\\\\Users\\\\lenovo\\\\Documents\\\\GitHub\\\\DS601_Spring21-main\\\\DS601_Spring21-main\\\\Week4\\\\cleaning_data\\\\loans_3_describe.ipynb', 'C:\\\\Users\\\\lenovo\\\\Documents\\\\GitHub\\\\DS601_Spring21-main\\\\DS601_Spring21-main\\\\Week4\\\\cleaning_data\\\\loans_4_data_type_conversion.ipynb', 'C:\\\\Users\\\\lenovo\\\\Documents\\\\GitHub\\\\DS601_Spring21-main\\\\DS601_Spring21-main\\\\Week4\\\\cleaning_data\\\\loans_5_unique_entries_per_column.ipynb', 'C:\\\\Users\\\\lenovo\\\\Documents\\\\GitHub\\\\DS601_Spring21-main\\\\DS601_Spring21-main\\\\Week4\\\\cleaning_data\\\\loans_benford.ipynb', 'C:\\\\Users\\\\lenovo\\\\Documents\\\\GitHub\\\\DS601_Spring21-main\\\\DS601_Spring21-main\\\\Week4\\\\cleaning_data\\\\loans_empty_entries_1.ipynb', 'C:\\\\Users\\\\lenovo\\\\Documents\\\\GitHub\\\\DS601_Spring21-main\\\\DS601_Spring21-main\\\\Week4\\\\cleaning_data\\\\loans_empty_entries_2_visualize_sparseness.ipynb', 'C:\\\\Users\\\\lenovo\\\\Documents\\\\GitHub\\\\DS601_Spring21-main\\\\DS601_Spring21-main\\\\Week4\\\\cleaning_data\\\\visualize_baseball.ipynb', 'C:\\\\Users\\\\lenovo\\\\Documents\\\\GitHub\\\\DS601_Spring21-main\\\\DS601_Spring21-main\\\\Week4\\\\homework\\\\AlternativeCsvPreparation.ipynb', 'C:\\\\Users\\\\lenovo\\\\Documents\\\\GitHub\\\\DS601_Spring21-main\\\\DS601_Spring21-main\\\\Week4\\\\homework\\\\BrowserHistory_Analysis_HW.ipynb', 'C:\\\\Users\\\\lenovo\\\\Documents\\\\GitHub\\\\DS601_Spring21-main\\\\DS601_Spring21-main\\\\Week4\\\\homework\\\\BrowserHistory_Preparation.ipynb', 'C:\\\\Users\\\\lenovo\\\\Documents\\\\GitHub\\\\DS601_Spring21-main\\\\DS601_Spring21-main\\\\Week4\\\\homework\\\\Week4_Homework2-Solution.ipynb', 'C:\\\\Users\\\\lenovo\\\\Documents\\\\GitHub\\\\DS601_Spring21-main\\\\DS601_Spring21-main\\\\Week4\\\\homework\\\\Week4_Homework2.ipynb', 'C:\\\\Users\\\\lenovo\\\\Documents\\\\GitHub\\\\DS601_Spring21-main\\\\DS601_Spring21-main\\\\Week5\\\\Classes_again.ipynb', 'C:\\\\Users\\\\lenovo\\\\Documents\\\\GitHub\\\\DS601_Spring21-main\\\\DS601_Spring21-main\\\\Week5\\\\homework\\\\BrowserHistory_Analysis_HW.ipynb', 'C:\\\\Users\\\\lenovo\\\\Documents\\\\GitHub\\\\DS601_Spring21-main\\\\DS601_Spring21-main\\\\Week5\\\\notebooks\\\\browser_automation_selenium\\\\selenium.ipynb', 'C:\\\\Users\\\\lenovo\\\\Documents\\\\GitHub\\\\DS601_Spring21-main\\\\DS601_Spring21-main\\\\Week5\\\\notebooks\\\\generate_HTML_using_jinja2\\\\generate_HTML_using_jinja2.ipynb', 'C:\\\\Users\\\\lenovo\\\\Documents\\\\GitHub\\\\DS601_Spring21-main\\\\DS601_Spring21-main\\\\Week5\\\\notebooks\\\\generate_PDF_from_HTML\\\\HTML_to_PDF_using_xhtml2pdf.ipynb', 'C:\\\\Users\\\\lenovo\\\\Documents\\\\GitHub\\\\DS601_Spring21-main\\\\DS601_Spring21-main\\\\Week5\\\\notebooks\\\\merge_PDFs\\\\pdf_merge.ipynb', 'C:\\\\Users\\\\lenovo\\\\Documents\\\\GitHub\\\\DS601_Spring21-main\\\\DS601_Spring21-main\\\\Week6\\\\HomeworkWeek6.ipynb', 'C:\\\\Users\\\\lenovo\\\\Documents\\\\GitHub\\\\DS601_Spring21-main\\\\DS601_Spring21-main\\\\Week6\\\\HomeworkWeek6_Solution.ipynb', 'C:\\\\Users\\\\lenovo\\\\Documents\\\\GitHub\\\\DS601_Spring21-main\\\\DS601_Spring21-main\\\\Week7\\\\homework\\\\Week9-Part1_Solution.ipynb', 'C:\\\\Users\\\\lenovo\\\\Documents\\\\GitHub\\\\DS601_Spring21-main\\\\DS601_Spring21-main\\\\Week7\\\\homework\\\\Week9-Part2_Solution.ipynb', 'C:\\\\Users\\\\lenovo\\\\Documents\\\\GitHub\\\\DS601_Spring21-main\\\\DS601_Spring21-main\\\\Week7\\\\notebooks\\\\10_introduction_to_numpy_and_vectors_and_matrices.ipynb', 'C:\\\\Users\\\\lenovo\\\\Documents\\\\GitHub\\\\DS601_Spring21-main\\\\DS601_Spring21-main\\\\Week7\\\\notebooks\\\\1_getting started with random.ipynb', 'C:\\\\Users\\\\lenovo\\\\Documents\\\\GitHub\\\\DS601_Spring21-main\\\\DS601_Spring21-main\\\\Week7\\\\notebooks\\\\2_modeling_random_coin_flips.ipynb', 'C:\\\\Users\\\\lenovo\\\\Documents\\\\GitHub\\\\DS601_Spring21-main\\\\DS601_Spring21-main\\\\Week7\\\\notebooks\\\\3_modeling_random_coin_flips_visualization.ipynb', 'C:\\\\Users\\\\lenovo\\\\Documents\\\\GitHub\\\\DS601_Spring21-main\\\\DS601_Spring21-main\\\\Week7\\\\notebooks\\\\4_modeling_random_coin_flips_scaling.ipynb', 'C:\\\\Users\\\\lenovo\\\\Documents\\\\GitHub\\\\DS601_Spring21-main\\\\DS601_Spring21-main\\\\Week7\\\\notebooks\\\\5_binomial distribution for coin flips.ipynb', 'C:\\\\Users\\\\lenovo\\\\Documents\\\\GitHub\\\\DS601_Spring21-main\\\\DS601_Spring21-main\\\\Week7\\\\notebooks\\\\6_visualizing_time_variation_v5_final_product_looks_easy.ipynb', 'C:\\\\Users\\\\lenovo\\\\Documents\\\\GitHub\\\\DS601_Spring21-main\\\\DS601_Spring21-main\\\\Week7\\\\notebooks\\\\7_python-groupby-tutorial.ipynb', 'C:\\\\Users\\\\lenovo\\\\Documents\\\\GitHub\\\\DS601_Spring21-main\\\\DS601_Spring21-main\\\\Week7\\\\notebooks\\\\8_correlation.ipynb', 'C:\\\\Users\\\\lenovo\\\\Documents\\\\GitHub\\\\DS601_Spring21-main\\\\DS601_Spring21-main\\\\Week7\\\\notebooks\\\\9_sets.ipynb', 'C:\\\\Users\\\\lenovo\\\\Documents\\\\GitHub\\\\DS601_Spring21-main\\\\DS601_Spring21-main\\\\Week7\\\\notebooks\\\\visualizing_time_variation_v1.ipynb', 'C:\\\\Users\\\\lenovo\\\\Documents\\\\GitHub\\\\DS601_Spring21-main\\\\DS601_Spring21-main\\\\Week7\\\\notebooks\\\\visualizing_time_variation_v2_skip.ipynb', 'C:\\\\Users\\\\lenovo\\\\Documents\\\\GitHub\\\\DS601_Spring21-main\\\\DS601_Spring21-main\\\\Week7\\\\notebooks\\\\visualizing_time_variation_v3.ipynb', 'C:\\\\Users\\\\lenovo\\\\Documents\\\\GitHub\\\\DS601_Spring21-main\\\\DS601_Spring21-main\\\\Week7\\\\notebooks\\\\visualizing_time_variation_v4.ipynb', 'C:\\\\Users\\\\lenovo\\\\Documents\\\\GitHub\\\\DS601_Spring21-main\\\\DS601_Spring21-main\\\\Week9\\\\homework\\\\HomeworkWeek9-Part1.ipynb', 'C:\\\\Users\\\\lenovo\\\\Documents\\\\GitHub\\\\DS601_Spring21-main\\\\DS601_Spring21-main\\\\Week9\\\\notebook\\\\1_order_distinguishes_time_series.ipynb', 'C:\\\\Users\\\\lenovo\\\\Documents\\\\GitHub\\\\DS601_Spring21-main\\\\DS601_Spring21-main\\\\Week9\\\\notebook\\\\2_temporal_anomalies_and_bin_alignment.ipynb', 'C:\\\\Users\\\\lenovo\\\\Documents\\\\GitHub\\\\DS601_Spring21-main\\\\DS601_Spring21-main\\\\Week9\\\\notebook\\\\3_timezones.ipynb', 'C:\\\\Users\\\\lenovo\\\\Documents\\\\GitHub\\\\DS601_Spring21-main\\\\DS601_Spring21-main\\\\Week9\\\\notebook\\\\4_plotting_timeseries_data.ipynb', 'C:\\\\Users\\\\lenovo\\\\Documents\\\\GitHub\\\\DS601_Spring21-main\\\\DS601_Spring21-main\\\\Week9\\\\notebook\\\\5_fourier_transform.ipynb', 'C:\\\\Users\\\\lenovo\\\\Documents\\\\GitHub\\\\DS601_Spring21-main\\\\DS601_Spring21-main\\\\Week9\\\\notebook\\\\create_time_range.ipynb', 'C:\\\\Users\\\\lenovo\\\\Documents\\\\GitHub\\\\DS601_Spring21-main\\\\DS601_Spring21-main\\\\Week9\\\\notebook\\\\magic-methods.ipynb', 'C:\\\\Users\\\\lenovo\\\\Documents\\\\GitHub\\\\DS601_Spring21-main\\\\DS601_Spring21-main\\\\Week9\\\\notebook\\\\historical_power_data\\\\historical power df_analysis.ipynb', 'C:\\\\Users\\\\lenovo\\\\Documents\\\\GitHub\\\\DS601_Spring21-main\\\\DS601_Spring21-main\\\\Week9\\\\notebook\\\\historical_power_data\\\\historical power load_fourier_transform.ipynb', 'C:\\\\Users\\\\lenovo\\\\Documents\\\\GitHub\\\\DS601_Spring21-main\\\\DS601_Spring21-main\\\\Week9\\\\notebook\\\\historical_power_data\\\\historical power load_get_files_make_df.ipynb', 'C:\\\\Users\\\\lenovo\\\\Documents\\\\GitHub\\\\DS601_Spring21-main\\\\DS601_Spring21-main\\\\Week9\\\\notebook\\\\host_streaming_stats\\\\analysis_of_static_timeseries.ipynb', 'C:\\\\Users\\\\lenovo\\\\Documents\\\\GitHub\\\\DS601_Spring21-main\\\\DS601_Spring21-main\\\\Week9\\\\notebook\\\\host_streaming_stats\\\\host_cpu_and_memory.ipynb']\n"
     ]
    }
   ],
   "source": [
    "list1=[]\n",
    "for filename in glob.iglob(path_glob, recursive=True):\n",
    "    list1.append(filename)\n",
    "print(list1)\n"
   ]
  },
  {
   "cell_type": "code",
   "execution_count": 9,
   "metadata": {
    "scrolled": true
   },
   "outputs": [
    {
     "name": "stdout",
     "output_type": "stream",
     "text": [
      "[['import csv', 'import pandas', 'import json', 'import xmltodict', 'import json', 'from collections import OrderedDict', 'from xml.dom import minidom', 'import xml.etree.ElementTree', 'import this', 'import random', 'import os', 'import zipfile', 'import requests', 'import docx', 'from nltk.corpus import stopwords', 'from nltk.tokenize import word_tokenize', 'import string', 'from file_processor import FileProcessor', 'from nltk.corpus import stopwords', 'from nltk.tokenize import word_tokenize', 'import docx', 'import string', 'import re', 'import random', 'import pandas', 'import pandas', 'import myfunctions', 'from myfunctions import unique_entries_in_frame', 'import matplotlib.pylab as plt', 'import numpy as np', 'from sklearn.datasets.samples_generator import make_blobs', 'from sklearn.metrics import pairwise_distances_argmin', 'import matplotlib.pylab as plt', 'import numpy as np', 'from sklearn.datasets.samples_generator import make_blobs', 'from sklearn.metrics import pairwise_distances_argmin', 'import re', 'import nltk', 'from nltk.tokenize import sent_tokenize,word_tokenize', 'from nltk.corpus import stopwords', 'import math', 'import os', 'import fnmatch # https://docs.python.org/3/library/fnmatch.html', 'import pandas as pd', 'from sklearn.feature_extraction.text import TfidfVectorizer, CountVectorizer', 'from sklearn.feature_extraction import text', 'from sklearn.metrics.pairwise import cosine_similarity', 'import pandas as pd', 'import numpy as np', 'import os', 'import numpy #sdfkjdlkf', 'import doctest', 'import pandas #aksjdlf', 'from keras', 'import matplotlib', 'import regex', 'from mymodule import person1', 'from graphviz import Digraph, Graph', 'from IPython.display import Image', 'import pydot', 'import matplotlib.pyplot as plt', 'from networkx import nx', 'import warnings', 'import networkx', 'from pycallgraph import PyCallGraph', 'from pycallgraph.output import GraphvizOutput', 'from IPython.display import Image', 'import random', 'from IPython.display import Image', 'import glob', 'import os', 'from os import walk', 'from graphviz import Digraph, Graph', 'from IPython.display import Image', 'from_ = names[:-1]', 'import networkx as nx', 'import numpy #sdfkjdlkf', 'import doctest', 'import pandas #aksjdlf', 'from keras', 'import matplotlib', 'import regex', 'from mymodule import person1', 'import glob', 'import os', 'import re', 'import re', 'import glob', 'import os', 'import regex', 'import json', 'import re', 'import re', 'import pandas', 'import matplotlib', 'import matplotlib.pyplot as plt', 'import pandas', 'import matplotlib', 'import matplotlib.pyplot as plt', 'import random', 'import random', 'import datetime', 'import re', 'import random', 'import datetime', 'import re', 'import timeit', 'from datetime import datetime', 'import pandas as pd', 'import pandas', 'import numpy as np', 'import random', 'from faker import Faker', 'import pandas as pd', 'import pandas as pd', 'import requests', 'import re', 'from bs4 import BeautifulSoup', 'import requests', 'import requests', 'import pandas', 'import requests', 'from bs4 import BeautifulSoup', 'import requests', 'from bs4 import BeautifulSoup', 'import pandas', 'from docx import Document', 'from docx import Document', 'import os', 'import PyPDF2', 'import re', 'import re', 'import pandas as pd', 'import random', 'from random import randint, choices', 'import pandas', 'import time', 'import pandas', 'import time', 'import pandas', 'import time', 'import pandas', 'import time', 'import pandas', 'import pandas as pd', 'import matplotlib.pylab as plt', 'import time', 'import pandas', 'import pandas as pd', 'import missingno as msno', 'import matplotlib.pylab as plt', 'import time', 'import pandas', 'import matplotlib.pyplot as plt', 'from browser_history.browsers import Firefox,Chrome', 'import pandas as pd', 'import matplotlib', 'import matplotlib.pyplot as plt', 'import pandas as pd', 'from urllib.parse import urlparse', 'import pandas as pd', 'import random', 'from faker import Faker', 'import pandas as pd', 'import pandas as pd', 'import pandas as pd', 'import matplotlib', 'import matplotlib.pyplot as plt', 'from selenium import webdriver', 'import sys', 'from jinja2 import Environment', 'from jinja2 import Environment, FileSystemLoader', 'import xhtml2pdf', 'from IPython.display import display, HTML', 'from xhtml2pdf import pisa             # import python module', 'from PyPDF2 import PdfFileMerger, PdfFileReader', 'import pandas as pd', 'from datetime import datetime', 'import matplotlib', 'import matplotlib.pyplot as plt', 'import numpy as np', 'import random', 'import matplotlib.pyplot as plt', 'import numpy', 'import random', 'import random', 'import timeit', 'import random', 'import pandas', 'import matplotlib.pyplot as plt', 'import numpy', 'import random', 'import timeit', 'import time', 'import pandas', 'import matplotlib', 'import matplotlib.pyplot as plt', 'import seaborn', 'import random', 'import matplotlib.pyplot as plt', 'import seaborn', 'import pandas', 'import numpy', 'import pandas', 'import matplotlib', 'import matplotlib.pyplot as plt', 'import numpy as np', 'import pandas as pd', 'import random', 'import pandas as pd', 'import random', 'import seaborn as sns', 'from the use of &:', 'import pandas', 'import matplotlib', 'import matplotlib.pyplot as plt', 'from datetime import datetime', 'import pandas', 'import pandas', 'import pandas', 'import matplotlib', 'import matplotlib.pyplot as plt', 'import doctest', 'import pandas', 'import numpy', 'import matplotlib.pyplot as plt', 'import pandas', 'import matplotlib.pyplot as plt', 'import numpy', 'import datetime', 'import pytz', 'import pandas', 'import pickle', 'import pytz', 'import matplotlib.pyplot as plt', 'import time', 'import datetime', 'import numpy', 'import random', 'import pandas', 'import matplotlib.pyplot as plt', 'import scipy', 'from scipy import signal', 'import datetime', 'import pandas', 'import pytz', 'import pandas as pd', 'import numpy', 'import glob', 'from scipy.fftpack import fft, ifft', 'from statsmodels.tsa.seasonal import seasonal_decompose', 'from statsmodels.graphics.tsaplots import plot_acf', 'import random', 'import time', 'import matplotlib.pyplot as plt', 'import pandas', 'import numpy', 'import glob', 'from scipy.fftpack import fft, ifft', 'from statsmodels.tsa.seasonal import seasonal_decompose', 'from statsmodels.graphics.tsaplots import plot_acf', 'import random', 'import time', 'import matplotlib.pyplot as plt', 'import requests', 'import re', 'from bs4 import BeautifulSoup', 'import pandas', 'import glob', 'import zipfile', 'from statsmodels.tsa.seasonal import seasonal_decompose', 'import random', 'import time', 'import matplotlib.pyplot as plt', 'import os', 'import pandas', 'import numpy', 'import glob', 'import matplotlib.pyplot as plt', 'import seaborn', 'from scipy import stats', 'import pickle', 'import time', 'import requests', 'import json', 'import subprocess', 'import psutil', 'import pickle', 'import os', 'import time', 'import datetime', 'import pandas', 'import matplotlib.pyplot as plt']]\n"
     ]
    },
    {
     "data": {
      "text/plain": [
       "list"
      ]
     },
     "execution_count": 9,
     "metadata": {},
     "output_type": "execute_result"
    }
   ],
   "source": [
    "mod = []\n",
    "modules=[]\n",
    "source =[]\n",
    "for files in list1:\n",
    "    source = json.load(open(files,\"r\", encoding='utf-8'))\n",
    "    for i in source['cells']:\n",
    "        [mod.append(code.rstrip()) for code in i['source'] if code.startswith('from') or code.startswith('import')]\n",
    "    #print(imports)\n",
    "modules.append(mod)\n",
    "#all_imports=set(all_imports)\n",
    "print(modules)\n",
    "type(modules)"
   ]
  },
  {
   "cell_type": "code",
   "execution_count": 11,
   "metadata": {},
   "outputs": [
    {
     "name": "stdout",
     "output_type": "stream",
     "text": [
      "['import csv', 'import pandas', 'import json', 'import xmltodict', 'import json', 'from collections import OrderedDict', 'from xml.dom import minidom', 'import xml.etree.ElementTree', 'import this', 'import random', 'import os', 'import zipfile', 'import requests', 'import docx', 'from nltk.corpus import stopwords', 'from nltk.tokenize import word_tokenize', 'import string', 'from file_processor import FileProcessor', 'from nltk.corpus import stopwords', 'from nltk.tokenize import word_tokenize', 'import docx', 'import string', 'import re', 'import random', 'import pandas', 'import pandas', 'import myfunctions', 'from myfunctions import unique_entries_in_frame', 'import matplotlib.pylab as plt', 'import numpy as np', 'from sklearn.datasets.samples_generator import make_blobs', 'from sklearn.metrics import pairwise_distances_argmin', 'import matplotlib.pylab as plt', 'import numpy as np', 'from sklearn.datasets.samples_generator import make_blobs', 'from sklearn.metrics import pairwise_distances_argmin', 'import re', 'import nltk', 'from nltk.tokenize import sent_tokenize,word_tokenize', 'from nltk.corpus import stopwords', 'import math', 'import os', 'import fnmatch # https://docs.python.org/3/library/fnmatch.html', 'import pandas as pd', 'from sklearn.feature_extraction.text import TfidfVectorizer, CountVectorizer', 'from sklearn.feature_extraction import text', 'from sklearn.metrics.pairwise import cosine_similarity', 'import pandas as pd', 'import numpy as np', 'import os', 'import numpy #sdfkjdlkf', 'import doctest', 'import pandas #aksjdlf', 'from keras', 'import matplotlib', 'import regex', 'from mymodule import person1', 'from graphviz import Digraph, Graph', 'from IPython.display import Image', 'import pydot', 'import matplotlib.pyplot as plt', 'from networkx import nx', 'import warnings', 'import networkx', 'from pycallgraph import PyCallGraph', 'from pycallgraph.output import GraphvizOutput', 'from IPython.display import Image', 'import random', 'from IPython.display import Image', 'import glob', 'import os', 'from os import walk', 'from graphviz import Digraph, Graph', 'from IPython.display import Image', 'from_ = names[:-1]', 'import networkx as nx', 'import numpy #sdfkjdlkf', 'import doctest', 'import pandas #aksjdlf', 'from keras', 'import matplotlib', 'import regex', 'from mymodule import person1', 'import glob', 'import os', 'import re', 'import re', 'import glob', 'import os', 'import regex', 'import json', 'import re', 'import re', 'import pandas', 'import matplotlib', 'import matplotlib.pyplot as plt', 'import pandas', 'import matplotlib', 'import matplotlib.pyplot as plt', 'import random', 'import random', 'import datetime', 'import re', 'import random', 'import datetime', 'import re', 'import timeit', 'from datetime import datetime', 'import pandas as pd', 'import pandas', 'import numpy as np', 'import random', 'from faker import Faker', 'import pandas as pd', 'import pandas as pd', 'import requests', 'import re', 'from bs4 import BeautifulSoup', 'import requests', 'import requests', 'import pandas', 'import requests', 'from bs4 import BeautifulSoup', 'import requests', 'from bs4 import BeautifulSoup', 'import pandas', 'from docx import Document', 'from docx import Document', 'import os', 'import PyPDF2', 'import re', 'import re', 'import pandas as pd', 'import random', 'from random import randint, choices', 'import pandas', 'import time', 'import pandas', 'import time', 'import pandas', 'import time', 'import pandas', 'import time', 'import pandas', 'import pandas as pd', 'import matplotlib.pylab as plt', 'import time', 'import pandas', 'import pandas as pd', 'import missingno as msno', 'import matplotlib.pylab as plt', 'import time', 'import pandas', 'import matplotlib.pyplot as plt', 'from browser_history.browsers import Firefox,Chrome', 'import pandas as pd', 'import matplotlib', 'import matplotlib.pyplot as plt', 'import pandas as pd', 'from urllib.parse import urlparse', 'import pandas as pd', 'import random', 'from faker import Faker', 'import pandas as pd', 'import pandas as pd', 'import pandas as pd', 'import matplotlib', 'import matplotlib.pyplot as plt', 'from selenium import webdriver', 'import sys', 'from jinja2 import Environment', 'from jinja2 import Environment, FileSystemLoader', 'import xhtml2pdf', 'from IPython.display import display, HTML', 'from xhtml2pdf import pisa             # import python module', 'from PyPDF2 import PdfFileMerger, PdfFileReader', 'import pandas as pd', 'from datetime import datetime', 'import matplotlib', 'import matplotlib.pyplot as plt', 'import numpy as np', 'import random', 'import matplotlib.pyplot as plt', 'import numpy', 'import random', 'import random', 'import timeit', 'import random', 'import pandas', 'import matplotlib.pyplot as plt', 'import numpy', 'import random', 'import timeit', 'import time', 'import pandas', 'import matplotlib', 'import matplotlib.pyplot as plt', 'import seaborn', 'import random', 'import matplotlib.pyplot as plt', 'import seaborn', 'import pandas', 'import numpy', 'import pandas', 'import matplotlib', 'import matplotlib.pyplot as plt', 'import numpy as np', 'import pandas as pd', 'import random', 'import pandas as pd', 'import random', 'import seaborn as sns', 'from the use of &:', 'import pandas', 'import matplotlib', 'import matplotlib.pyplot as plt', 'from datetime import datetime', 'import pandas', 'import pandas', 'import pandas', 'import matplotlib', 'import matplotlib.pyplot as plt', 'import doctest', 'import pandas', 'import numpy', 'import matplotlib.pyplot as plt', 'import pandas', 'import matplotlib.pyplot as plt', 'import numpy', 'import datetime', 'import pytz', 'import pandas', 'import pickle', 'import pytz', 'import matplotlib.pyplot as plt', 'import time', 'import datetime', 'import numpy', 'import random', 'import pandas', 'import matplotlib.pyplot as plt', 'import scipy', 'from scipy import signal', 'import datetime', 'import pandas', 'import pytz', 'import pandas as pd', 'import numpy', 'import glob', 'from scipy.fftpack import fft, ifft', 'from statsmodels.tsa.seasonal import seasonal_decompose', 'from statsmodels.graphics.tsaplots import plot_acf', 'import random', 'import time', 'import matplotlib.pyplot as plt', 'import pandas', 'import numpy', 'import glob', 'from scipy.fftpack import fft, ifft', 'from statsmodels.tsa.seasonal import seasonal_decompose', 'from statsmodels.graphics.tsaplots import plot_acf', 'import random', 'import time', 'import matplotlib.pyplot as plt', 'import requests', 'import re', 'from bs4 import BeautifulSoup', 'import pandas', 'import glob', 'import zipfile', 'from statsmodels.tsa.seasonal import seasonal_decompose', 'import random', 'import time', 'import matplotlib.pyplot as plt', 'import os', 'import pandas', 'import numpy', 'import glob', 'import matplotlib.pyplot as plt', 'import seaborn', 'from scipy import stats', 'import pickle', 'import time', 'import requests', 'import json', 'import subprocess', 'import psutil', 'import pickle', 'import os', 'import time', 'import datetime', 'import pandas', 'import matplotlib.pyplot as plt']\n"
     ]
    },
    {
     "data": {
      "text/plain": [
       "list"
      ]
     },
     "execution_count": 11,
     "metadata": {},
     "output_type": "execute_result"
    }
   ],
   "source": [
    "package=[]\n",
    "for i in modules:\n",
    "    package.extend(i)\n",
    "print(package)\n",
    "type(package)"
   ]
  },
  {
   "cell_type": "code",
   "execution_count": null,
   "metadata": {},
   "outputs": [],
   "source": []
  },
  {
   "cell_type": "code",
   "execution_count": null,
   "metadata": {},
   "outputs": [],
   "source": [
    "set(package)"
   ]
  },
  {
   "cell_type": "code",
   "execution_count": 12,
   "metadata": {},
   "outputs": [
    {
     "name": "stdout",
     "output_type": "stream",
     "text": [
      "import csv import pandas import json import xmltodict import json from collections import OrderedDict from xml.dom import minidom import xml.etree.ElementTree import this import random import os import zipfile import requests import docx from nltk.corpus import stopwords from nltk.tokenize import word_tokenize import string from file_processor import FileProcessor from nltk.corpus import stopwords from nltk.tokenize import word_tokenize import docx import string import re import random import pandas import pandas import myfunctions from myfunctions import unique_entries_in_frame import matplotlib.pylab as plt import numpy as np from sklearn.datasets.samples_generator import make_blobs from sklearn.metrics import pairwise_distances_argmin import matplotlib.pylab as plt import numpy as np from sklearn.datasets.samples_generator import make_blobs from sklearn.metrics import pairwise_distances_argmin import re import nltk from nltk.tokenize import sent_tokenize,word_tokenize from nltk.corpus import stopwords import math import os import fnmatch # https://docs.python.org/3/library/fnmatch.html import pandas as pd from sklearn.feature_extraction.text import TfidfVectorizer, CountVectorizer from sklearn.feature_extraction import text from sklearn.metrics.pairwise import cosine_similarity import pandas as pd import numpy as np import os import numpy #sdfkjdlkf import doctest import pandas #aksjdlf from keras import matplotlib import regex from mymodule import person1 from graphviz import Digraph, Graph from IPython.display import Image import pydot import matplotlib.pyplot as plt from networkx import nx import warnings import networkx from pycallgraph import PyCallGraph from pycallgraph.output import GraphvizOutput from IPython.display import Image import random from IPython.display import Image import glob import os from os import walk from graphviz import Digraph, Graph from IPython.display import Image from_ = names[:-1] import networkx as nx import numpy #sdfkjdlkf import doctest import pandas #aksjdlf from keras import matplotlib import regex from mymodule import person1 import glob import os import re import re import glob import os import regex import json import re import re import pandas import matplotlib import matplotlib.pyplot as plt import pandas import matplotlib import matplotlib.pyplot as plt import random import random import datetime import re import random import datetime import re import timeit from datetime import datetime import pandas as pd import pandas import numpy as np import random from faker import Faker import pandas as pd import pandas as pd import requests import re from bs4 import BeautifulSoup import requests import requests import pandas import requests from bs4 import BeautifulSoup import requests from bs4 import BeautifulSoup import pandas from docx import Document from docx import Document import os import PyPDF2 import re import re import pandas as pd import random from random import randint, choices import pandas import time import pandas import time import pandas import time import pandas import time import pandas import pandas as pd import matplotlib.pylab as plt import time import pandas import pandas as pd import missingno as msno import matplotlib.pylab as plt import time import pandas import matplotlib.pyplot as plt from browser_history.browsers import Firefox,Chrome import pandas as pd import matplotlib import matplotlib.pyplot as plt import pandas as pd from urllib.parse import urlparse import pandas as pd import random from faker import Faker import pandas as pd import pandas as pd import pandas as pd import matplotlib import matplotlib.pyplot as plt from selenium import webdriver import sys from jinja2 import Environment from jinja2 import Environment, FileSystemLoader import xhtml2pdf from IPython.display import display, HTML from xhtml2pdf import pisa             # import python module from PyPDF2 import PdfFileMerger, PdfFileReader import pandas as pd from datetime import datetime import matplotlib import matplotlib.pyplot as plt import numpy as np import random import matplotlib.pyplot as plt import numpy import random import random import timeit import random import pandas import matplotlib.pyplot as plt import numpy import random import timeit import time import pandas import matplotlib import matplotlib.pyplot as plt import seaborn import random import matplotlib.pyplot as plt import seaborn import pandas import numpy import pandas import matplotlib import matplotlib.pyplot as plt import numpy as np import pandas as pd import random import pandas as pd import random import seaborn as sns from the use of &: import pandas import matplotlib import matplotlib.pyplot as plt from datetime import datetime import pandas import pandas import pandas import matplotlib import matplotlib.pyplot as plt import doctest import pandas import numpy import matplotlib.pyplot as plt import pandas import matplotlib.pyplot as plt import numpy import datetime import pytz import pandas import pickle import pytz import matplotlib.pyplot as plt import time import datetime import numpy import random import pandas import matplotlib.pyplot as plt import scipy from scipy import signal import datetime import pandas import pytz import pandas as pd import numpy import glob from scipy.fftpack import fft, ifft from statsmodels.tsa.seasonal import seasonal_decompose from statsmodels.graphics.tsaplots import plot_acf import random import time import matplotlib.pyplot as plt import pandas import numpy import glob from scipy.fftpack import fft, ifft from statsmodels.tsa.seasonal import seasonal_decompose from statsmodels.graphics.tsaplots import plot_acf import random import time import matplotlib.pyplot as plt import requests import re from bs4 import BeautifulSoup import pandas import glob import zipfile from statsmodels.tsa.seasonal import seasonal_decompose import random import time import matplotlib.pyplot as plt import os import pandas import numpy import glob import matplotlib.pyplot as plt import seaborn from scipy import stats import pickle import time import requests import json import subprocess import psutil import pickle import os import time import datetime import pandas import matplotlib.pyplot as plt\n"
     ]
    },
    {
     "data": {
      "text/plain": [
       "str"
      ]
     },
     "execution_count": 12,
     "metadata": {},
     "output_type": "execute_result"
    }
   ],
   "source": [
    "#new_list = \" \".join(all_imports) \n",
    "values = ' '.join([str(i) for i in package])\n",
    "print(values)\n",
    "\n",
    "type(values)"
   ]
  },
  {
   "cell_type": "code",
   "execution_count": 15,
   "metadata": {},
   "outputs": [
    {
     "name": "stdout",
     "output_type": "stream",
     "text": [
      "{'text', 'walk', 'pisa', 'matplotlib', 'Faker', 'stopwords', 'time', 'missingno', 'os', 're', 'pandas', 'fnmatch', 'pydot', 'networkx', 'scipy', 'minidom', 'warnings', 'nx', 'PyCallGraph', 'datetime', 'PyPDF2', 'pairwise_distances_argmin', 'pickle', 'sys', 'stats', 'psutil', 'math', 'PdfFileMerger', 'myfunctions', 'cosine_similarity', 'sent_tokenize', 'xhtml2pdf', 'timeit', 'seasonal_decompose', 'random', 'requests', 'fft', 'unique_entries_in_frame', 'csv', 'urlparse', 'glob', 'Document', 'FileProcessor', 'numpy', 'python', 'xml', 'this', 'string', 'Digraph', 'regex', 'word_tokenize', 'zipfile', 'doctest', 'Firefox', 'display', 'GraphvizOutput', 'Environment', 'seaborn', 'pytz', 'xmltodict', 'TfidfVectorizer', 'make_blobs', 'Image', 'signal', 'person1', 'nltk', 'plot_acf', 'randint', 'subprocess', 'OrderedDict', 'json', 'docx', 'webdriver', 'BeautifulSoup'}\n",
      "<class 'list'>\n"
     ]
    }
   ],
   "source": [
    "\n",
    "user = re.findall('(?<=import )(\\w+)',values)\n",
    "print(set(user))\n",
    "list1=user\n",
    "print(type(list1))"
   ]
  },
  {
   "cell_type": "code",
   "execution_count": 16,
   "metadata": {
    "scrolled": true
   },
   "outputs": [
    {
     "name": "stdout",
     "output_type": "stream",
     "text": [
      "{'IPython', 'the', 'browser_history', 'file_processor', 'os', 'pycallgraph', 'networkx', 'scipy', 'datetime', 'PyPDF2', 'statsmodels', 'myfunctions', 'xhtml2pdf', 'sklearn', 'random', 'keras', 'jinja2', 'urllib', 'xml', 'graphviz', 'bs4', 'faker', 'nltk', 'selenium', 'collections', 'docx', 'mymodule'}\n",
      "<class 'list'>\n"
     ]
    }
   ],
   "source": [
    "user1 = re.findall('(?<=from )(\\w+)',values)\n",
    "print(set(user1))\n",
    "list2=user\n",
    "print(type(list2))"
   ]
  },
  {
   "cell_type": "code",
   "execution_count": 17,
   "metadata": {},
   "outputs": [
    {
     "name": "stdout",
     "output_type": "stream",
     "text": [
      "{'text', 'walk', 'pisa', 'matplotlib', 'Faker', 'stopwords', 'time', 'missingno', 'os', 're', 'pandas', 'fnmatch', 'pydot', 'networkx', 'scipy', 'minidom', 'warnings', 'nx', 'PyCallGraph', 'datetime', 'PyPDF2', 'pairwise_distances_argmin', 'pickle', 'sys', 'stats', 'psutil', 'math', 'PdfFileMerger', 'myfunctions', 'cosine_similarity', 'sent_tokenize', 'xhtml2pdf', 'timeit', 'seasonal_decompose', 'random', 'requests', 'fft', 'unique_entries_in_frame', 'csv', 'urlparse', 'glob', 'Document', 'FileProcessor', 'numpy', 'python', 'xml', 'this', 'string', 'Digraph', 'regex', 'word_tokenize', 'zipfile', 'doctest', 'Firefox', 'display', 'GraphvizOutput', 'Environment', 'seaborn', 'pytz', 'xmltodict', 'TfidfVectorizer', 'make_blobs', 'Image', 'signal', 'person1', 'nltk', 'plot_acf', 'randint', 'subprocess', 'OrderedDict', 'json', 'docx', 'webdriver', 'BeautifulSoup'}\n"
     ]
    }
   ],
   "source": [
    "final_list = set(list1 + list2)\n",
    "print(final_list)"
   ]
  },
  {
   "cell_type": "code",
   "execution_count": 33,
   "metadata": {
    "scrolled": true
   },
   "outputs": [
    {
     "name": "stdout",
     "output_type": "stream",
     "text": [
      "['alabaster==0.7.11', 'anaconda-client==1.7.2', 'anaconda-navigator==1.9.12', 'anaconda-project==0.8.2', 'appdirs==1.4.3', 'asn1crypto==0.24.0', 'astroid==2.0.4', 'astropy==3.0.4', 'atomicwrites==1.2.1', 'attrs==18.2.0', 'Automat==0.7.0', 'Babel==2.6.0', 'backcall==0.1.0', 'backports.shutil-get-terminal-size==1.0.0', 'beautifulsoup4==4.6.3', 'bitarray==0.8.3', 'bkcharts==0.2', 'blaze==0.11.3', 'bleach==2.1.4', 'bokeh==0.13.0', 'boto==2.49.0', 'Bottleneck==1.2.1', 'browserhistory==0.1.2', 'certifi==2020.6.20', 'cffi==1.11.5', 'chardet==3.0.4', 'click==6.7', 'cloudpickle==0.5.5', 'clyent==1.2.2', 'colorama==0.3.9', 'comtypes==1.1.7', 'conda==4.8.3', 'conda-build==3.15.1', 'conda-package-handling==1.7.0', 'constantly==15.1.0', 'contextlib2==0.5.5', 'cryptography==2.9.2', 'cycler==0.10.0', 'Cython==0.28.5', 'cytoolz==0.9.0.1', 'dask==0.19.1', 'datashape==0.5.4', 'decorator==4.3.0', 'defusedxml==0.5.0', 'distributed==1.23.1', 'docutils==0.14', 'entrypoints==0.2.3', 'et-xmlfile==1.0.1', 'Faker==6.1.1', 'fastcache==1.0.2', 'filelock==3.0.8', 'Flask==1.0.2', 'Flask-Cors==3.0.6', 'gevent==1.3.6', 'glob2==0.6', 'greenlet==0.4.15', 'h5py==2.8.0', 'heapdict==1.0.0', 'html5lib==1.0.1', 'hyperlink==18.0.0', 'idna==2.7', 'imageio==2.4.1', 'imagesize==1.1.0', 'incremental==17.5.0', 'ipykernel==4.10.0', 'ipython==6.5.0', 'ipython-genutils==0.2.0', 'ipywidgets==7.4.1', 'isort==4.3.4', 'itsdangerous==0.24', 'jdcal==1.4', 'jedi==0.12.1', 'Jinja2==2.10', 'joblib==1.0.1', 'jsonschema==2.6.0', 'jupyter==1.0.0', 'jupyter-client==5.2.3', 'jupyter-console==5.2.0', 'jupyter-core==4.4.0', 'jupyterlab==0.34.9', 'jupyterlab-launcher==0.13.1', 'keyring==13.2.1', 'kiwisolver==1.0.1', 'lazy-object-proxy==1.3.1', 'llvmlite==0.24.0', 'locket==0.2.0', 'lxml==4.2.5', 'MarkupSafe==1.0', 'matplotlib==2.2.3', 'mccabe==0.6.1', 'menuinst==1.4.14', 'mistune==0.8.3', 'mkl-fft==1.0.4', 'mkl-random==1.0.1', 'more-itertools==4.3.0', 'mpmath==1.0.0', 'msgpack==0.5.6', 'multipledispatch==0.6.0', 'navigator-updater==0.2.1', 'nbconvert==5.4.0', 'nbformat==4.4.0', 'networkx==2.1', 'nltk==3.5', 'nose==1.3.7', 'notebook==5.6.0', 'numba==0.39.0', 'numexpr==2.6.8', 'numpy==1.15.1', 'numpydoc==0.8.0', 'odo==0.5.1', 'olefile==0.46', 'openpyxl==2.5.6', 'packaging==17.1', 'pandas==0.23.4', 'pandocfilters==1.4.2', 'parso==0.3.1', 'partd==0.3.8', 'path.py==11.1.0', 'pathlib2==2.3.2', 'patsy==0.5.0', 'pep8==1.7.1', 'pickleshare==0.7.4', 'Pillow==5.2.0', 'pkginfo==1.4.2', 'pluggy==0.7.1', 'ply==3.11', 'prometheus-client==0.3.1', 'prompt-toolkit==1.0.15', 'psutil==5.4.7', 'py==1.6.0', 'pyasn1==0.4.4', 'pyasn1-modules==0.2.2', 'pycodestyle==2.4.0', 'pycosat==0.6.3', 'pycparser==2.18', 'pycrypto==2.6.1', 'pycurl==7.43.0.5', 'pyflakes==2.0.0', 'Pygments==2.2.0', 'pylint==2.1.1', 'pyodbc==4.0.24', 'pyOpenSSL==18.0.0', 'pyparsing==2.2.0', 'PySocks==1.6.8', 'pytest==3.8.0', 'pytest-arraydiff==0.2', 'pytest-astropy==0.4.0', 'pytest-doctestplus==0.1.3', 'pytest-openfiles==0.3.0', 'pytest-remotedata==0.3.0', 'python-dateutil==2.7.3', 'python-docx==0.8.10', 'pytz==2018.5', 'PyWavelets==1.0.0', 'pywin32==223', 'pywinpty==0.5.4', 'PyYAML==5.3.1', 'pyzmq==17.1.2', 'QtAwesome==0.4.4', 'qtconsole==4.4.1', 'QtPy==1.5.0', 'regex==2021.4.4', 'requests==2.19.1', 'rope==0.11.0', 'ruamel-yaml==0.15.46', 'scikit-image==0.14.0', 'scikit-learn==0.19.2', 'scipy==1.1.0', 'seaborn==0.9.0', 'Send2Trash==1.5.0', 'service-identity==17.0.0', 'simplegeneric==0.8.1', 'singledispatch==3.4.0.3', 'six==1.11.0', 'snowballstemmer==1.2.1', 'sortedcollections==1.0.1', 'sortedcontainers==2.0.5', 'Sphinx==1.7.9', 'sphinxcontrib-websupport==1.1.0', 'spyder==3.3.1', 'spyder-kernels==0.2.6', 'SQLAlchemy==1.2.11', 'statsmodels==0.9.0', 'sympy==1.1.1', 'tables==3.4.4', 'tblib==1.3.2', 'terminado==0.8.1', 'testpath==0.3.1', 'text-unidecode==1.3', 'textblob==0.15.3', 'timestring==1.6.4', 'toolz==0.9.0', 'tornado==5.1', 'tqdm==4.26.0', 'traitlets==4.3.2', 'Twisted==18.7.0', 'unicodecsv==0.14.1', 'urllib3==1.23', 'wcwidth==0.1.7', 'webencodings==0.5.1', 'Werkzeug==0.14.1', 'widgetsnbextension==3.4.1', 'win-inet-pton==1.0.1', 'win-unicode-console==0.5', 'wincertstore==0.2', 'wrapt==1.10.11', 'xlrd==1.1.0', 'XlsxWriter==1.1.0', 'xlwings==0.11.8', 'xlwt==1.3.0', 'xmltodict==0.12.0', 'zict==0.1.3', 'zope.interface==4.5.0']\n",
      "<class 'IPython.utils.text.SList'>\n"
     ]
    }
   ],
   "source": [
    "package_list = []\n",
    "\n",
    "package_list = !pip freeze\n",
    "print(package_list)\n",
    "print(type(package_list))\n",
    "\n"
   ]
  },
  {
   "cell_type": "code",
   "execution_count": null,
   "metadata": {},
   "outputs": [],
   "source": [
    "type(package_list)"
   ]
  },
  {
   "cell_type": "code",
   "execution_count": 36,
   "metadata": {
    "scrolled": true
   },
   "outputs": [
    {
     "name": "stdout",
     "output_type": "stream",
     "text": [
      "{'xlwings', 'project', 'ython', 'ors', 'isort', 'atomicwrites', 'object', 'dask', 'wcwidth', 'html', 'proxy', 'asn', 'imageio', 'olefile', 'appdirs', 't', 'rope', 'webencodings', 'websupport', 'scipy', 'build', 'py', 'conda', 'bkcharts', 'incremental', 'lazy', 'statsmodels', 'dateutil', 'locket', 'odo', 'image', 'requests', 'click', 'fastcache', 'jsonschema', 'glob', 'unicodecsv', 'utomat', 'boto', 'tornado', 'terminado', 'simplegeneric', 'browserhistory', 'beautifulsoup', 'pycodestyle', 'backcall', 'console', 'cloudpickle', 'openpyxl', 'pycosat', 'partd', 'pywin', 'zict', 'idna', 'itertools', 'scikit', 'nbconvert', 'ygments', 'astropy', 'afe', 'tqdm', 'rash', 'launcher', 'anaconda', 'spyder', 'datashape', 'nose', 'ply', 'joblib', 'avelets', 'pycparser', 'h', 'modules', 'sortedcollections', 'astroid', 'pep', 'numba', 'numexpr', 'pyzmq', 'xlrd', 'yaml', 'packaging', 'pickleshare', 'random', 'bitarray', 'xmlfile', 'gevent', 'msgpack', 'pytest', 'genutils', 'entrypoints', 'mccabe', 'sympy', 'numpy', 'updater', 'pathlib', 'lxml', 'pyparsing', 'unicode', 'bokeh', 'pytz', 'lib', 'riter', 'snowballstemmer', 'mpmath', 'illow', 'pywinpty', 'interface', 'ruamel', 'jedi', 'notebook', 'kernels', 'wisted', 'service', 'textblob', 'timestring', 'arkup', 'text', 'toolz', 'keyring', 'qtconsole', 'wrapt', 'networkx', 'ipython', 'client', 'filelock', 'path', 'pkginfo', 'identity', 'openfiles', 'lchemy', 'singledispatch', 'alabaster', 'et', 'heapdict', 'fft', 'cryptography', 'win', 'bleach', 'python', 'get', 'certifi', 'toolkit', 'inet', 'pton', 'lsx', 'pyflakes', 'y', 'patsy', 'erkzeug', 'backports', 'cycler', 'mistune', 'arraydiff', 'cytoolz', 'comtypes', 'aker', 'xlwt', 'pen', 'pandocfilters', 'ipywidgets', 'decorator', 'remotedata', 'zope', 'itsdangerous', 'sphinxcontrib', 'numpydoc', 'parso', 'pycurl', 'colorama', 'matplotlib', 'traitlets', 'end', 'tables', 'attrs', 'phinx', 'mkl', 'blaze', 'pandas', 'size', 'core', 'terminal', 'lask', 'sortedcontainers', 'distributed', 'pycrypto', 'wesome', 'package', 'psutil', 'kiwisolver', 'chardet', 'jupyterlab', 'docutils', 'ottleneck', 'pyasn', 'shutil', 'wincertstore', 'urllib', 'pyodbc', 'inja', 'navigator', 'jupyter', 'defusedxml', 'jdcal', 'doctestplus', 'regex', 'ipykernel', 'prometheus', 'pylint', 'greenlet', 'seaborn', 'nbformat', 'unidecode', 'xmltodict', 'crypto', 'learn', 'tblib', 'docx', 'clyent', 'pluggy', 'six', 'more', 'multipledispatch', 'imagesize', 'nltk', 'menuinst', 'constantly', 'testpath', 'llvmlite', 'prompt', 'abel', 'cffi', 'contextlib', 'widgetsnbextension', 'ocks', 'handling', 'hyperlink'}\n"
     ]
    }
   ],
   "source": [
    "package_list = \" \".join(package_list) \n",
    "regex = re.compile(r'([a-z]+)')\n",
    "package_list = regex.findall(package_list)\n",
    "print(set(package_list))"
   ]
  },
  {
   "cell_type": "code",
   "execution_count": 37,
   "metadata": {},
   "outputs": [
    {
     "name": "stdout",
     "output_type": "stream",
     "text": [
      "{'text', 'docx', 'glob', 'networkx', 'psutil', 'python', 'numpy', 'matplotlib', 'pytz', 'nltk', 'regex', 'seaborn', 'pandas', 'random', 'requests', 'xmltodict', 'fft', 'scipy'}\n"
     ]
    }
   ],
   "source": [
    "list3 = [element for element in final_list if element in package_list]\n",
    "#print(list3)\n",
    "#list3 = set(list3)\n",
    "print(set(list3))"
   ]
  },
  {
   "cell_type": "code",
   "execution_count": 38,
   "metadata": {},
   "outputs": [
    {
     "ename": "SyntaxError",
     "evalue": "EOF while scanning triple-quoted string literal (<ipython-input-38-a2ffc8847991>, line 7)",
     "output_type": "error",
     "traceback": [
      "\u001b[1;36m  File \u001b[1;32m\"<ipython-input-38-a2ffc8847991>\"\u001b[1;36m, line \u001b[1;32m7\u001b[0m\n\u001b[1;33m    type(xstr)''\u001b[0m\n\u001b[1;37m                \n^\u001b[0m\n\u001b[1;31mSyntaxError\u001b[0m\u001b[1;31m:\u001b[0m EOF while scanning triple-quoted string literal\n"
     ]
    }
   ],
   "source": [
    "'''''package_list = []\n",
    "\n",
    "package_list = help('modules')\n",
    "xstr = lambda package_list: '' if package_list is None else str(package_list)\n",
    "print(xstr)\n",
    "\n",
    "type(xstr)''\n",
    "\n"
   ]
  }
 ],
 "metadata": {
  "kernelspec": {
   "display_name": "Python 3",
   "language": "python",
   "name": "python3"
  },
  "language_info": {
   "codemirror_mode": {
    "name": "ipython",
    "version": 3
   },
   "file_extension": ".py",
   "mimetype": "text/x-python",
   "name": "python",
   "nbconvert_exporter": "python",
   "pygments_lexer": "ipython3",
   "version": "3.7.0"
  }
 },
 "nbformat": 4,
 "nbformat_minor": 2
}
