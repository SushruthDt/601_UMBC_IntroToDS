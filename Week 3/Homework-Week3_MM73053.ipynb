{
 "cells": [
  {
   "cell_type": "markdown",
   "metadata": {},
   "source": [
    "### Homework Assignment : Week 3\n",
    "####                                                      by MM73053"
   ]
  },
  {
   "cell_type": "code",
   "execution_count": 1,
   "metadata": {},
   "outputs": [],
   "source": [
    "## dont touch this cell and assertions after the questions\n",
    "score = {}\n",
    "\n",
    "equality_check = lambda a, b: len(a) == len(b) and all([ x==y for x,y in zip(a,b)])\n",
    "def assertion(question, result, expected):\n",
    "    same = False\n",
    "    try:\n",
    "        if type(result) in (int, str, bool, type(None)):\n",
    "            same = result == expected\n",
    "        else:\n",
    "            same = equality_check(result, expected)\n",
    "    except:\n",
    "        pass\n",
    "    \n",
    "    if question != None and same:\n",
    "        score[question] = True\n",
    "        \n",
    "    print('correct' if same else 'incorrect')"
   ]
  },
  {
   "cell_type": "code",
   "execution_count": 2,
   "metadata": {},
   "outputs": [],
   "source": [
    "state_names = [\"Alaska\", \"Alabama\", \"Arkansas\", \"American Samoa\", \"Arizona\", \"California\", \"Colorado\", \"Connecticut\", \"District \", \"of Columbia\", \"Delaware\", \"Florida\", \"Georgia\", \"Guam\", \"Hawaii\", \"Iowa\", \"Idaho\", \"Illinois\", \"Indiana\", \"Kansas\", \"Kentucky\", \"Louisiana\", \"Massachusetts\", \"Maryland\", \"Maine\", \"Michigan\", \"Minnesota\", \"Missouri\", \"Mississippi\", \"Montana\", \"North Carolina\", \"North Dakota\", \"Nebraska\", \"New Hampshire\", \"New Jersey\", \"New Mexico\", \"Nevada\", \"New York\", \"Ohio\", \"Oklahoma\", \"Oregon\", \"Pennsylvania\", \"Puerto Rico\", \"Rhode Island\", \"South Carolina\", \"South Dakota\", \"Tennessee\", \"Texas\", \"Utah\", \"Virginia\", \"Virgin Islands\", \"Vermont\", \"Washington\", \"Wisconsin\", \"West Virginia\", \"Wyoming\"]\n"
   ]
  },
  {
   "cell_type": "markdown",
   "metadata": {},
   "source": [
    "Documenting python code: https://realpython.com/documenting-python-code/\n",
    "\n",
    "Use Only List Comprehensions"
   ]
  },
  {
   "cell_type": "code",
   "execution_count": 4,
   "metadata": {},
   "outputs": [],
   "source": [
    "# hw 1\n",
    "def get_states_with_5_letter():\n",
    "    \"\"\"\n",
    "    return states with 5 letters \n",
    "    \"\"\"\n",
    "    return [str(i) for i in state_names if len(i) == 5]\n"
   ]
  },
  {
   "cell_type": "code",
   "execution_count": 5,
   "metadata": {},
   "outputs": [
    {
     "name": "stdout",
     "output_type": "stream",
     "text": [
      "correct\n"
     ]
    }
   ],
   "source": [
    "assertion('1', get_states_with_5_letter(), ['Idaho', 'Maine', 'Texas'])"
   ]
  },
  {
   "cell_type": "code",
   "execution_count": 7,
   "metadata": {},
   "outputs": [],
   "source": [
    "# hw 2 \n",
    "\n",
    "def get_odd_numbers_from_list(arr):\n",
    "    \"\"\"\n",
    "    return odd numbers from the list\n",
    "    \"\"\"\n",
    "    return [i for i in arr if i % 2 != 0]\n"
   ]
  },
  {
   "cell_type": "code",
   "execution_count": 8,
   "metadata": {},
   "outputs": [
    {
     "name": "stdout",
     "output_type": "stream",
     "text": [
      "correct\n",
      "correct\n",
      "correct\n"
     ]
    }
   ],
   "source": [
    "assertion('2a', get_odd_numbers_from_list([1,2,3]), [1,3])\n",
    "assertion('2b', get_odd_numbers_from_list([1,2,3, 17]), [1,3, 17])\n",
    "assertion('2c', get_odd_numbers_from_list([]), [])"
   ]
  },
  {
   "cell_type": "code",
   "execution_count": 9,
   "metadata": {},
   "outputs": [],
   "source": [
    "# hw 3\n",
    "\n",
    "def contains_value(arr, x):\n",
    "    \"\"\"\n",
    "    checks if passed in list contains value  \n",
    "    \n",
    "    Parameters\n",
    "    ----------\n",
    "    arr : list\n",
    "        List contains vaues\n",
    "    x : int\n",
    "        value to be checked\n",
    "\n",
    "    Returns\n",
    "    -------\n",
    "    bool\n",
    "        \n",
    "    \"\"\"\n",
    "    return any([ True if x in arr else False])\n"
   ]
  },
  {
   "cell_type": "code",
   "execution_count": 10,
   "metadata": {},
   "outputs": [
    {
     "name": "stdout",
     "output_type": "stream",
     "text": [
      "correct\n",
      "correct\n"
     ]
    }
   ],
   "source": [
    "assertion('3a', contains_value([1,2,3], 1), True)\n",
    "assertion('3b', contains_value([1,2,3], 4), False)"
   ]
  },
  {
   "cell_type": "code",
   "execution_count": 11,
   "metadata": {},
   "outputs": [],
   "source": [
    "# hw 4 \n",
    "\n",
    "def check_if_all_positive(arr):\n",
    "    \"\"\"\n",
    "    checks all values in the list are positive\n",
    "    \n",
    "    Parameters\n",
    "    ----------\n",
    "    arr : list\n",
    "        List contains values\n",
    "\n",
    "    Returns\n",
    "    -------\n",
    "    bool\n",
    "    \n",
    "    \"\"\"\n",
    "    return all([ True if i>0 else False    for i in arr ])\n"
   ]
  },
  {
   "cell_type": "code",
   "execution_count": 12,
   "metadata": {},
   "outputs": [
    {
     "name": "stdout",
     "output_type": "stream",
     "text": [
      "correct\n",
      "correct\n"
     ]
    }
   ],
   "source": [
    "assertion('3a', check_if_all_positive([1,-4,3]), False)\n",
    "assertion('3b', check_if_all_positive([1,2,3]), True)"
   ]
  },
  {
   "cell_type": "code",
   "execution_count": 13,
   "metadata": {},
   "outputs": [],
   "source": [
    "# not hw - don't change anything in this block\n",
    "import pandas as pd\n",
    "\n",
    "def get_data():\n",
    "    \"\"\"\n",
    "    get the data\n",
    "    \"\"\"\n",
    "    data = pd.read_csv('https://people.sc.fsu.edu/~jburkardt/data/csv/zillow.csv', index_col=0)\n",
    "    data.columns = [ i.replace('\"', '').strip() for i in data.columns]\n",
    "    \n",
    "    return data\n",
    "\n",
    "def get_zip_code_state_dictionary():\n",
    "    \"\"\"\n",
    "    returns zip code: state dictionary\n",
    "    data is random :)\n",
    "\n",
    "    \"\"\"\n",
    "    \n",
    "    d = { zcode: \"MD\" if str(zcode)[4] > '6' else \"VA\" for zcode in [32301, 32303, 32308, 32309, 32310, 32311, 32312] }\n",
    "    return d\n",
    "\n"
   ]
  },
  {
   "cell_type": "code",
   "execution_count": 14,
   "metadata": {},
   "outputs": [],
   "source": [
    "# hw 5\n",
    "\n",
    "def get_and_prepare_data(df):\n",
    "    \"\"\"\n",
    "    add a column to the table named State with the state information based on zip code\n",
    "    and return the data frame\n",
    "    \"\"\"\n",
    "    zcode_states = get_zip_code_state_dictionary()\n",
    "    # don't change any existing code ----\n",
    "    df['State'] = df['Zip'].map(zcode_states) \n",
    "\n",
    "    \n",
    "    \n",
    "    # ------\n",
    "    \n",
    "    return df"
   ]
  },
  {
   "cell_type": "code",
   "execution_count": 15,
   "metadata": {},
   "outputs": [
    {
     "data": {
      "text/html": [
       "<div>\n",
       "<style scoped>\n",
       "    .dataframe tbody tr th:only-of-type {\n",
       "        vertical-align: middle;\n",
       "    }\n",
       "\n",
       "    .dataframe tbody tr th {\n",
       "        vertical-align: top;\n",
       "    }\n",
       "\n",
       "    .dataframe thead th {\n",
       "        text-align: right;\n",
       "    }\n",
       "</style>\n",
       "<table border=\"1\" class=\"dataframe\">\n",
       "  <thead>\n",
       "    <tr style=\"text-align: right;\">\n",
       "      <th></th>\n",
       "      <th>Living Space (sq ft)</th>\n",
       "      <th>Beds</th>\n",
       "      <th>Baths</th>\n",
       "      <th>Zip</th>\n",
       "      <th>Year</th>\n",
       "      <th>List Price ($)</th>\n",
       "      <th>State</th>\n",
       "    </tr>\n",
       "    <tr>\n",
       "      <th>Index</th>\n",
       "      <th></th>\n",
       "      <th></th>\n",
       "      <th></th>\n",
       "      <th></th>\n",
       "      <th></th>\n",
       "      <th></th>\n",
       "      <th></th>\n",
       "    </tr>\n",
       "  </thead>\n",
       "  <tbody>\n",
       "    <tr>\n",
       "      <th>1</th>\n",
       "      <td>2222</td>\n",
       "      <td>3</td>\n",
       "      <td>3.5</td>\n",
       "      <td>32312</td>\n",
       "      <td>1981</td>\n",
       "      <td>250000</td>\n",
       "      <td>VA</td>\n",
       "    </tr>\n",
       "    <tr>\n",
       "      <th>2</th>\n",
       "      <td>1628</td>\n",
       "      <td>3</td>\n",
       "      <td>2.0</td>\n",
       "      <td>32308</td>\n",
       "      <td>2009</td>\n",
       "      <td>185000</td>\n",
       "      <td>MD</td>\n",
       "    </tr>\n",
       "    <tr>\n",
       "      <th>3</th>\n",
       "      <td>3824</td>\n",
       "      <td>5</td>\n",
       "      <td>4.0</td>\n",
       "      <td>32312</td>\n",
       "      <td>1954</td>\n",
       "      <td>399000</td>\n",
       "      <td>VA</td>\n",
       "    </tr>\n",
       "    <tr>\n",
       "      <th>4</th>\n",
       "      <td>1137</td>\n",
       "      <td>3</td>\n",
       "      <td>2.0</td>\n",
       "      <td>32309</td>\n",
       "      <td>1993</td>\n",
       "      <td>150000</td>\n",
       "      <td>MD</td>\n",
       "    </tr>\n",
       "    <tr>\n",
       "      <th>5</th>\n",
       "      <td>3560</td>\n",
       "      <td>6</td>\n",
       "      <td>4.0</td>\n",
       "      <td>32309</td>\n",
       "      <td>1973</td>\n",
       "      <td>315000</td>\n",
       "      <td>MD</td>\n",
       "    </tr>\n",
       "  </tbody>\n",
       "</table>\n",
       "</div>"
      ],
      "text/plain": [
       "       Living Space (sq ft)  Beds  Baths    Zip  Year  List Price ($) State\n",
       "Index                                                                      \n",
       "1                      2222     3    3.5  32312  1981          250000    VA\n",
       "2                      1628     3    2.0  32308  2009          185000    MD\n",
       "3                      3824     5    4.0  32312  1954          399000    VA\n",
       "4                      1137     3    2.0  32309  1993          150000    MD\n",
       "5                      3560     6    4.0  32309  1973          315000    MD"
      ]
     },
     "execution_count": 15,
     "metadata": {},
     "output_type": "execute_result"
    }
   ],
   "source": [
    "zillow = get_data()\n",
    "\n",
    "zillow_with_state = get_and_prepare_data(zillow)\n",
    "zillow_with_state.head()"
   ]
  },
  {
   "cell_type": "code",
   "execution_count": 16,
   "metadata": {},
   "outputs": [
    {
     "name": "stdout",
     "output_type": "stream",
     "text": [
      "correct\n"
     ]
    }
   ],
   "source": [
    "zc = get_zip_code_state_dictionary()\n",
    "if('State' not in zillow_with_state.columns):\n",
    "    print ('incorrect')\n",
    "else:\n",
    "    assertion('5a', all([ zc[z] == s  for z, s in zip(zillow_with_state['Zip'], zillow_with_state['State'])]), True)"
   ]
  },
  {
   "cell_type": "markdown",
   "metadata": {},
   "source": [
    "## Score Part1"
   ]
  },
  {
   "cell_type": "code",
   "execution_count": 17,
   "metadata": {},
   "outputs": [
    {
     "data": {
      "text/plain": [
       "'7/7'"
      ]
     },
     "execution_count": 17,
     "metadata": {},
     "output_type": "execute_result"
    }
   ],
   "source": [
    "str(sum(score.values())) + \"/7\""
   ]
  },
  {
   "cell_type": "markdown",
   "metadata": {},
   "source": [
    "## Fake Data"
   ]
  },
  {
   "cell_type": "markdown",
   "metadata": {},
   "source": [
    "1. Email addresses\n",
    "1. Phone numbers\n",
    "1. Home Address\n",
    "1. Person's name\n",
    "1. Year born. Use realistic values.\n",
    "1. Number of kids. Use realistic values.\n",
    "1. Categorical variable: rent or own?\n",
    "1. Annual income. Optional challenge: Use a non-uniform distribution\n",
    "1. Number of speeding tickets in past year. Optional challenge: Use a non-uniform distribution\n",
    "\n",
    "\n",
    "Complete the following method(s). \n",
    "\n",
    "Use libraries to generate fake data"
   ]
  },
  {
   "cell_type": "code",
   "execution_count": 18,
   "metadata": {},
   "outputs": [],
   "source": [
    "# you can add additional functions here\n",
    "#!pip install Faker \n",
    "from faker import Faker\n",
    "import random\n",
    "faker = Faker()"
   ]
  },
  {
   "cell_type": "code",
   "execution_count": 19,
   "metadata": {},
   "outputs": [],
   "source": [
    "\n",
    "def generate_fake_data(row=50):\n",
    "    \"\"\"\n",
    "    Generates fake data\n",
    "    \n",
    "    Parameters\n",
    "    ---------\n",
    "    row: int number of rows \n",
    "    \n",
    "    Output: pandas dataframe\n",
    "    \"\"\"\n",
    "    fakedata = [{\n",
    "        \n",
    "        'Email ID': faker.email(),\n",
    "        'Phone Number' :faker.phone_number(),\n",
    "        'Home Address' :faker.address(),\n",
    "        'Persons Name' :faker.name(),\n",
    "        'Number of Kids *' :random.randint(0,5),\n",
    "        'Rent Type* ' : random.choice(['Rent','Own']),\n",
    "        'Annual income' :random.randrange(50000,100000),\n",
    "        'Number of speeding tickets in past year' :random.randint(0,5) } for i in range(row)]\n",
    "\n",
    "\n",
    "    return fakedata"
   ]
  },
  {
   "cell_type": "code",
   "execution_count": 20,
   "metadata": {},
   "outputs": [
    {
     "data": {
      "text/html": [
       "<div>\n",
       "<style scoped>\n",
       "    .dataframe tbody tr th:only-of-type {\n",
       "        vertical-align: middle;\n",
       "    }\n",
       "\n",
       "    .dataframe tbody tr th {\n",
       "        vertical-align: top;\n",
       "    }\n",
       "\n",
       "    .dataframe thead th {\n",
       "        text-align: right;\n",
       "    }\n",
       "</style>\n",
       "<table border=\"1\" class=\"dataframe\">\n",
       "  <thead>\n",
       "    <tr style=\"text-align: right;\">\n",
       "      <th></th>\n",
       "      <th>Annual income</th>\n",
       "      <th>Email ID</th>\n",
       "      <th>Home Address</th>\n",
       "      <th>Number of Kids *</th>\n",
       "      <th>Number of speeding tickets in past year</th>\n",
       "      <th>Persons Name</th>\n",
       "      <th>Phone Number</th>\n",
       "      <th>Rent Type*</th>\n",
       "    </tr>\n",
       "  </thead>\n",
       "  <tbody>\n",
       "    <tr>\n",
       "      <th>0</th>\n",
       "      <td>78597</td>\n",
       "      <td>sandovaljoseph@lee.net</td>\n",
       "      <td>PSC 4398, Box 4895\\nAPO AE 77507</td>\n",
       "      <td>5</td>\n",
       "      <td>3</td>\n",
       "      <td>Jerry Nguyen</td>\n",
       "      <td>(503)113-8457</td>\n",
       "      <td>Own</td>\n",
       "    </tr>\n",
       "    <tr>\n",
       "      <th>1</th>\n",
       "      <td>55074</td>\n",
       "      <td>bobby58@yahoo.com</td>\n",
       "      <td>89845 Matthew Roads Suite 738\\nLake Thomasberg...</td>\n",
       "      <td>0</td>\n",
       "      <td>4</td>\n",
       "      <td>Tracy Gonzalez</td>\n",
       "      <td>843.685.8941x698</td>\n",
       "      <td>Own</td>\n",
       "    </tr>\n",
       "    <tr>\n",
       "      <th>2</th>\n",
       "      <td>52911</td>\n",
       "      <td>gallagherlisa@hall-hopkins.com</td>\n",
       "      <td>77061 Erik Points Suite 607\\nGriffintown, GA 4...</td>\n",
       "      <td>2</td>\n",
       "      <td>5</td>\n",
       "      <td>Tammy Weaver</td>\n",
       "      <td>001-668-208-1976x54156</td>\n",
       "      <td>Own</td>\n",
       "    </tr>\n",
       "    <tr>\n",
       "      <th>3</th>\n",
       "      <td>88726</td>\n",
       "      <td>christopher56@yahoo.com</td>\n",
       "      <td>49924 Lynn Views\\nWest Scott, ME 06404</td>\n",
       "      <td>0</td>\n",
       "      <td>1</td>\n",
       "      <td>Elizabeth Hill</td>\n",
       "      <td>001-429-033-1676x055</td>\n",
       "      <td>Rent</td>\n",
       "    </tr>\n",
       "    <tr>\n",
       "      <th>4</th>\n",
       "      <td>99205</td>\n",
       "      <td>william13@yahoo.com</td>\n",
       "      <td>PSC 9673, Box 0662\\nAPO AE 90917</td>\n",
       "      <td>0</td>\n",
       "      <td>1</td>\n",
       "      <td>Shawn Manning</td>\n",
       "      <td>1600878489</td>\n",
       "      <td>Own</td>\n",
       "    </tr>\n",
       "    <tr>\n",
       "      <th>5</th>\n",
       "      <td>70960</td>\n",
       "      <td>whitakerbrittany@yahoo.com</td>\n",
       "      <td>005 Mora Trace Suite 151\\nPort Wesley, MT 29096</td>\n",
       "      <td>5</td>\n",
       "      <td>2</td>\n",
       "      <td>Philip Pittman</td>\n",
       "      <td>167-746-2763x240</td>\n",
       "      <td>Own</td>\n",
       "    </tr>\n",
       "    <tr>\n",
       "      <th>6</th>\n",
       "      <td>55140</td>\n",
       "      <td>haley59@gmail.com</td>\n",
       "      <td>37512 Johnson Harbor Suite 191\\nEast Zacharyfu...</td>\n",
       "      <td>4</td>\n",
       "      <td>4</td>\n",
       "      <td>Shannon Miller</td>\n",
       "      <td>3754506999</td>\n",
       "      <td>Rent</td>\n",
       "    </tr>\n",
       "    <tr>\n",
       "      <th>7</th>\n",
       "      <td>60004</td>\n",
       "      <td>anthony07@hotmail.com</td>\n",
       "      <td>8949 George Light\\nLake Robertview, ND 33478</td>\n",
       "      <td>2</td>\n",
       "      <td>0</td>\n",
       "      <td>Kevin Clark</td>\n",
       "      <td>+1-153-455-6796x721</td>\n",
       "      <td>Rent</td>\n",
       "    </tr>\n",
       "    <tr>\n",
       "      <th>8</th>\n",
       "      <td>72116</td>\n",
       "      <td>saratucker@clark.net</td>\n",
       "      <td>Unit 6285 Box 6865\\nDPO AA 98505</td>\n",
       "      <td>0</td>\n",
       "      <td>5</td>\n",
       "      <td>Chad Rhodes</td>\n",
       "      <td>(242)075-8886x51209</td>\n",
       "      <td>Own</td>\n",
       "    </tr>\n",
       "    <tr>\n",
       "      <th>9</th>\n",
       "      <td>57967</td>\n",
       "      <td>collinsbrittany@gmail.com</td>\n",
       "      <td>33045 Mills Road Apt. 025\\nNew Toddburgh, ID 9...</td>\n",
       "      <td>5</td>\n",
       "      <td>4</td>\n",
       "      <td>Brooke Lucas</td>\n",
       "      <td>620.635.7985x811</td>\n",
       "      <td>Own</td>\n",
       "    </tr>\n",
       "  </tbody>\n",
       "</table>\n",
       "</div>"
      ],
      "text/plain": [
       "   Annual income                        Email ID  \\\n",
       "0          78597          sandovaljoseph@lee.net   \n",
       "1          55074               bobby58@yahoo.com   \n",
       "2          52911  gallagherlisa@hall-hopkins.com   \n",
       "3          88726         christopher56@yahoo.com   \n",
       "4          99205             william13@yahoo.com   \n",
       "5          70960      whitakerbrittany@yahoo.com   \n",
       "6          55140               haley59@gmail.com   \n",
       "7          60004           anthony07@hotmail.com   \n",
       "8          72116            saratucker@clark.net   \n",
       "9          57967       collinsbrittany@gmail.com   \n",
       "\n",
       "                                        Home Address  Number of Kids *  \\\n",
       "0                   PSC 4398, Box 4895\\nAPO AE 77507                 5   \n",
       "1  89845 Matthew Roads Suite 738\\nLake Thomasberg...                 0   \n",
       "2  77061 Erik Points Suite 607\\nGriffintown, GA 4...                 2   \n",
       "3             49924 Lynn Views\\nWest Scott, ME 06404                 0   \n",
       "4                   PSC 9673, Box 0662\\nAPO AE 90917                 0   \n",
       "5    005 Mora Trace Suite 151\\nPort Wesley, MT 29096                 5   \n",
       "6  37512 Johnson Harbor Suite 191\\nEast Zacharyfu...                 4   \n",
       "7       8949 George Light\\nLake Robertview, ND 33478                 2   \n",
       "8                   Unit 6285 Box 6865\\nDPO AA 98505                 0   \n",
       "9  33045 Mills Road Apt. 025\\nNew Toddburgh, ID 9...                 5   \n",
       "\n",
       "   Number of speeding tickets in past year    Persons Name  \\\n",
       "0                                        3    Jerry Nguyen   \n",
       "1                                        4  Tracy Gonzalez   \n",
       "2                                        5    Tammy Weaver   \n",
       "3                                        1  Elizabeth Hill   \n",
       "4                                        1   Shawn Manning   \n",
       "5                                        2  Philip Pittman   \n",
       "6                                        4  Shannon Miller   \n",
       "7                                        0     Kevin Clark   \n",
       "8                                        5     Chad Rhodes   \n",
       "9                                        4    Brooke Lucas   \n",
       "\n",
       "             Phone Number Rent Type*   \n",
       "0           (503)113-8457         Own  \n",
       "1        843.685.8941x698         Own  \n",
       "2  001-668-208-1976x54156         Own  \n",
       "3    001-429-033-1676x055        Rent  \n",
       "4              1600878489         Own  \n",
       "5        167-746-2763x240         Own  \n",
       "6              3754506999        Rent  \n",
       "7     +1-153-455-6796x721        Rent  \n",
       "8     (242)075-8886x51209         Own  \n",
       "9        620.635.7985x811         Own  "
      ]
     },
     "execution_count": 20,
     "metadata": {},
     "output_type": "execute_result"
    }
   ],
   "source": [
    "import pandas as pd\n",
    "df = pd.DataFrame(generate_fake_data(10))\n",
    "df"
   ]
  },
  {
   "cell_type": "code",
   "execution_count": 22,
   "metadata": {},
   "outputs": [
    {
     "data": {
      "text/plain": [
       "<matplotlib.axes._subplots.AxesSubplot at 0x1e314ef5780>"
      ]
     },
     "execution_count": 22,
     "metadata": {},
     "output_type": "execute_result"
    },
    {
     "data": {
      "image/png": "[encoded data removed]",
      "text/plain": [
       "<Figure size 432x288 with 1 Axes>"
      ]
     },
     "metadata": {
      "needs_background": "light"
     },
     "output_type": "display_data"
    }
   ],
   "source": [
    "df['Number of speeding tickets in past year'].hist() "
   ]
  },
  {
   "cell_type": "code",
   "execution_count": null,
   "metadata": {},
   "outputs": [],
   "source": []
  }
 ],
 "metadata": {
  "kernelspec": {
   "display_name": "Python 3",
   "language": "python",
   "name": "python3"
  },
  "language_info": {
   "codemirror_mode": {
    "name": "ipython",
    "version": 3
   },
   "file_extension": ".py",
   "mimetype": "text/x-python",
   "name": "python",
   "nbconvert_exporter": "python",
   "pygments_lexer": "ipython3",
   "version": "3.7.0"
  },
  "varInspector": {
   "cols": {
    "lenName": 16,
    "lenType": 16,
    "lenVar": 40
   },
   "kernels_config": {
    "python": {
     "delete_cmd_postfix": "",
     "delete_cmd_prefix": "del ",
     "library": "var_list.py",
     "varRefreshCmd": "print(var_dic_list())"
    },
    "r": {
     "delete_cmd_postfix": ") ",
     "delete_cmd_prefix": "rm(",
     "library": "var_list.r",
     "varRefreshCmd": "cat(var_dic_list()) "
    }
   },
   "types_to_exclude": [
    "module",
    "function",
    "builtin_function_or_method",
    "instance",
    "_Feature"
   ],
   "window_display": false
  }
 },
 "nbformat": 4,
 "nbformat_minor": 2
}
