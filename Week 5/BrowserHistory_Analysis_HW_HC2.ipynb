{
 "cells": [
  {
   "cell_type": "markdown",
   "metadata": {},
   "source": [
    "## Homework by MM7305"
   ]
  },
  {
   "cell_type": "code",
   "execution_count": 1,
   "metadata": {},
   "outputs": [],
   "source": [
    "import pandas as pd\n",
    "\n",
    "import matplotlib\n",
    "import matplotlib.pyplot as plt"
   ]
  },
  {
   "cell_type": "code",
   "execution_count": 2,
   "metadata": {},
   "outputs": [
    {
     "data": {
      "text/plain": [
       "(7187, 2)"
      ]
     },
     "execution_count": 2,
     "metadata": {},
     "output_type": "execute_result"
    }
   ],
   "source": [
    "df = pd.read_csv('C:\\\\Users\\\\lenovo\\\\Documents\\\\GitHub\\\\DS601_Spring21-main\\\\DS601_Spring21-main\\\\Week5\\\\cleaned_history_files\\\\cleaned_history_files\\\\history_cleaned-2.csv')\n",
    "df.shape"
   ]
  },
  {
   "cell_type": "code",
   "execution_count": null,
   "metadata": {},
   "outputs": [],
   "source": []
  },
  {
   "cell_type": "code",
   "execution_count": 3,
   "metadata": {},
   "outputs": [
    {
     "data": {
      "text/html": [
       "<div>\n",
       "<style scoped>\n",
       "    .dataframe tbody tr th:only-of-type {\n",
       "        vertical-align: middle;\n",
       "    }\n",
       "\n",
       "    .dataframe tbody tr th {\n",
       "        vertical-align: top;\n",
       "    }\n",
       "\n",
       "    .dataframe thead th {\n",
       "        text-align: right;\n",
       "    }\n",
       "</style>\n",
       "<table border=\"1\" class=\"dataframe\">\n",
       "  <thead>\n",
       "    <tr style=\"text-align: right;\">\n",
       "      <th></th>\n",
       "      <th>domain</th>\n",
       "      <th>Time</th>\n",
       "    </tr>\n",
       "  </thead>\n",
       "  <tbody>\n",
       "    <tr>\n",
       "      <th>0</th>\n",
       "      <td>www.netflix.com</td>\n",
       "      <td>5/30/2019 17:18</td>\n",
       "    </tr>\n",
       "    <tr>\n",
       "      <th>1</th>\n",
       "      <td>www.netflix.com</td>\n",
       "      <td>5/30/2019 17:20</td>\n",
       "    </tr>\n",
       "    <tr>\n",
       "      <th>2</th>\n",
       "      <td>account.microsoft.com</td>\n",
       "      <td>5/31/2019 21:56</td>\n",
       "    </tr>\n",
       "    <tr>\n",
       "      <th>3</th>\n",
       "      <td>www.autotrader.com</td>\n",
       "      <td>6/1/2019 18:44</td>\n",
       "    </tr>\n",
       "    <tr>\n",
       "      <th>4</th>\n",
       "      <td>opm.myidcare.com</td>\n",
       "      <td>6/2/2019 1:00</td>\n",
       "    </tr>\n",
       "  </tbody>\n",
       "</table>\n",
       "</div>"
      ],
      "text/plain": [
       "                  domain             Time\n",
       "0        www.netflix.com  5/30/2019 17:18\n",
       "1        www.netflix.com  5/30/2019 17:20\n",
       "2  account.microsoft.com  5/31/2019 21:56\n",
       "3     www.autotrader.com   6/1/2019 18:44\n",
       "4       opm.myidcare.com    6/2/2019 1:00"
      ]
     },
     "execution_count": 3,
     "metadata": {},
     "output_type": "execute_result"
    }
   ],
   "source": [
    "df.head()"
   ]
  },
  {
   "cell_type": "code",
   "execution_count": 4,
   "metadata": {},
   "outputs": [
    {
     "data": {
      "text/html": [
       "<div>\n",
       "<style scoped>\n",
       "    .dataframe tbody tr th:only-of-type {\n",
       "        vertical-align: middle;\n",
       "    }\n",
       "\n",
       "    .dataframe tbody tr th {\n",
       "        vertical-align: top;\n",
       "    }\n",
       "\n",
       "    .dataframe thead th {\n",
       "        text-align: right;\n",
       "    }\n",
       "</style>\n",
       "<table border=\"1\" class=\"dataframe\">\n",
       "  <thead>\n",
       "    <tr style=\"text-align: right;\">\n",
       "      <th></th>\n",
       "      <th>domain</th>\n",
       "      <th>Time</th>\n",
       "    </tr>\n",
       "  </thead>\n",
       "  <tbody>\n",
       "    <tr>\n",
       "      <th>7182</th>\n",
       "      <td>www.youtube.com</td>\n",
       "      <td>2/20/2021 12:53</td>\n",
       "    </tr>\n",
       "    <tr>\n",
       "      <th>7183</th>\n",
       "      <td>www.youtube.com</td>\n",
       "      <td>2/20/2021 12:53</td>\n",
       "    </tr>\n",
       "    <tr>\n",
       "      <th>7184</th>\n",
       "      <td>www.youtube.com</td>\n",
       "      <td>2/20/2021 12:54</td>\n",
       "    </tr>\n",
       "    <tr>\n",
       "      <th>7185</th>\n",
       "      <td>www.youtube.com</td>\n",
       "      <td>2/20/2021 12:54</td>\n",
       "    </tr>\n",
       "    <tr>\n",
       "      <th>7186</th>\n",
       "      <td>www.youtube.com</td>\n",
       "      <td>2/20/2021 12:58</td>\n",
       "    </tr>\n",
       "  </tbody>\n",
       "</table>\n",
       "</div>"
      ],
      "text/plain": [
       "               domain             Time\n",
       "7182  www.youtube.com  2/20/2021 12:53\n",
       "7183  www.youtube.com  2/20/2021 12:53\n",
       "7184  www.youtube.com  2/20/2021 12:54\n",
       "7185  www.youtube.com  2/20/2021 12:54\n",
       "7186  www.youtube.com  2/20/2021 12:58"
      ]
     },
     "execution_count": 4,
     "metadata": {},
     "output_type": "execute_result"
    }
   ],
   "source": [
    "df.tail()"
   ]
  },
  {
   "cell_type": "code",
   "execution_count": 5,
   "metadata": {},
   "outputs": [
    {
     "data": {
      "text/plain": [
       "domain    object\n",
       "Time      object\n",
       "dtype: object"
      ]
     },
     "execution_count": 5,
     "metadata": {},
     "output_type": "execute_result"
    }
   ],
   "source": [
    "df.dtypes"
   ]
  },
  {
   "cell_type": "code",
   "execution_count": 6,
   "metadata": {},
   "outputs": [
    {
     "data": {
      "text/plain": [
       "3298"
      ]
     },
     "execution_count": 6,
     "metadata": {},
     "output_type": "execute_result"
    }
   ],
   "source": [
    "# time column is string and string date is starting with YYYY, so I can do string compares\n",
    "sum(df['Time'] < '1900') \n"
   ]
  },
  {
   "cell_type": "code",
   "execution_count": 7,
   "metadata": {},
   "outputs": [],
   "source": [
    "# I filter and get a copy, so I will not work on a slice, this will be a new dataframe. (essentially losing 1900 data points)\n",
    "df = df[df.Time > '1900'].copy() "
   ]
  },
  {
   "cell_type": "code",
   "execution_count": 8,
   "metadata": {},
   "outputs": [],
   "source": [
    "df['Time'] = pd.to_datetime(df['Time'])"
   ]
  },
  {
   "cell_type": "code",
   "execution_count": 9,
   "metadata": {
    "scrolled": false
   },
   "outputs": [
    {
     "data": {
      "text/plain": [
       "duckduckgo.com                   435\n",
       "www.bing.com                     253\n",
       "www.reddit.com                   243\n",
       "mail.google.com                  183\n",
       "blackboard.umbc.edu              175\n",
       "www.youtube.com                  175\n",
       "www.google.com                   163\n",
       "www.gigabyte.com                 137\n",
       "github.com                       134\n",
       "account.microsoft.com             80\n",
       "piazza.com                        80\n",
       "gamewithbutterfinger.com          69\n",
       "smile.amazon.com                  64\n",
       "www.netflix.com                   45\n",
       "2020.internethealthreport.org     44\n",
       "opm.myidcare.com                  44\n",
       "localhost:8888                    38\n",
       "central.bitdefender.com           37\n",
       "online.citi.com                   37\n",
       "www.thankyou.com                  37\n",
       "www.microsoft.com                 28\n",
       "imgur.com                         27\n",
       "drive.google.com                  27\n",
       "www.intel.com                     27\n",
       "www.jstor.org                     26\n",
       "www.apc.com                       26\n",
       "myaccounts.capitalone.com         26\n",
       "192.168.0.232                     25\n",
       "arstechnica.com                   25\n",
       "my.umbc.edu                       20\n",
       "ggcs.gigabyte.com                 20\n",
       "play.hbomax.com                   20\n",
       "oltx.fidelity.com                 20\n",
       "carsandbids.com                   20\n",
       "www.anandtech.com                 20\n",
       "owl.purdue.edu                    19\n",
       "webauth.umbc.edu                  18\n",
       "login.live.com                    17\n",
       "www.speedtest.net                 17\n",
       "www.bestbuy.com                   17\n",
       "www.calvin.edu                    16\n",
       "www.w3schools.com                 15\n",
       "accounts.google.com               15\n",
       "eds.a.ebscohost.com               15\n",
       "weather.com                       15\n",
       "sfederation.intel.com             14\n",
       "www.nicehash.com                  13\n",
       "www.census.gov                    13\n",
       "stackoverflow.com                 12\n",
       "support.microsoft.com             12\n",
       "Name: domain, dtype: int64"
      ]
     },
     "execution_count": 9,
     "metadata": {},
     "output_type": "execute_result"
    }
   ],
   "source": [
    "df['domain'].value_counts()[:50]"
   ]
  },
  {
   "cell_type": "code",
   "execution_count": 10,
   "metadata": {},
   "outputs": [
    {
     "data": {
      "text/plain": [
       "<matplotlib.axes._subplots.AxesSubplot at 0x244403f75f8>"
      ]
     },
     "execution_count": 10,
     "metadata": {},
     "output_type": "execute_result"
    },
    {
     "data": {
      "image/png": "[encoded data removed]",
      "text/plain": [
       "<Figure size 432x288 with 1 Axes>"
      ]
     },
     "metadata": {
      "needs_background": "light"
     },
     "output_type": "display_data"
    }
   ],
   "source": [
    "# top 10 sites that I visisted\n",
    "df['domain'].value_counts()[:10].plot(kind='bar')"
   ]
  },
  {
   "cell_type": "code",
   "execution_count": 11,
   "metadata": {},
   "outputs": [
    {
     "data": {
      "text/plain": [
       "Time\n",
       "0       9\n",
       "1       1\n",
       "2       4\n",
       "6       3\n",
       "7       1\n",
       "8      19\n",
       "9      34\n",
       "10    122\n",
       "11    147\n",
       "12    257\n",
       "13    182\n",
       "14    148\n",
       "15     62\n",
       "16    254\n",
       "17    335\n",
       "18    565\n",
       "19    756\n",
       "20    618\n",
       "21    273\n",
       "22     70\n",
       "23     29\n",
       "Name: domain, dtype: int64"
      ]
     },
     "execution_count": 11,
     "metadata": {},
     "output_type": "execute_result"
    }
   ],
   "source": [
    "hourly_counts = df.groupby(df.Time.dt.hour).domain.size()\n",
    "hourly_counts"
   ]
  },
  {
   "cell_type": "code",
   "execution_count": 12,
   "metadata": {
    "scrolled": true
   },
   "outputs": [
    {
     "data": {
      "text/plain": [
       "<matplotlib.axes._subplots.AxesSubplot at 0x244406e6e80>"
      ]
     },
     "execution_count": 12,
     "metadata": {},
     "output_type": "execute_result"
    },
    {
     "data": {
      "image/png": "[encoded data removed]",
      "text/plain": [
       "<Figure size 432x288 with 1 Axes>"
      ]
     },
     "metadata": {
      "needs_background": "light"
     },
     "output_type": "display_data"
    }
   ],
   "source": [
    "hourly_counts.plot.bar()"
   ]
  },
  {
   "cell_type": "code",
   "execution_count": 13,
   "metadata": {},
   "outputs": [
    {
     "data": {
      "text/html": [
       "<div>\n",
       "<style scoped>\n",
       "    .dataframe tbody tr th:only-of-type {\n",
       "        vertical-align: middle;\n",
       "    }\n",
       "\n",
       "    .dataframe tbody tr th {\n",
       "        vertical-align: top;\n",
       "    }\n",
       "\n",
       "    .dataframe thead th {\n",
       "        text-align: right;\n",
       "    }\n",
       "</style>\n",
       "<table border=\"1\" class=\"dataframe\">\n",
       "  <thead>\n",
       "    <tr style=\"text-align: right;\">\n",
       "      <th></th>\n",
       "      <th>domain</th>\n",
       "      <th>Time</th>\n",
       "      <th>Day</th>\n",
       "      <th>DayIndex</th>\n",
       "    </tr>\n",
       "  </thead>\n",
       "  <tbody>\n",
       "    <tr>\n",
       "      <th>0</th>\n",
       "      <td>www.netflix.com</td>\n",
       "      <td>2019-05-30 17:18:00</td>\n",
       "      <td>Thursday</td>\n",
       "      <td>3</td>\n",
       "    </tr>\n",
       "    <tr>\n",
       "      <th>1</th>\n",
       "      <td>www.netflix.com</td>\n",
       "      <td>2019-05-30 17:20:00</td>\n",
       "      <td>Thursday</td>\n",
       "      <td>3</td>\n",
       "    </tr>\n",
       "    <tr>\n",
       "      <th>2</th>\n",
       "      <td>account.microsoft.com</td>\n",
       "      <td>2019-05-31 21:56:00</td>\n",
       "      <td>Friday</td>\n",
       "      <td>4</td>\n",
       "    </tr>\n",
       "    <tr>\n",
       "      <th>3</th>\n",
       "      <td>www.autotrader.com</td>\n",
       "      <td>2019-06-01 18:44:00</td>\n",
       "      <td>Saturday</td>\n",
       "      <td>5</td>\n",
       "    </tr>\n",
       "    <tr>\n",
       "      <th>4</th>\n",
       "      <td>opm.myidcare.com</td>\n",
       "      <td>2019-06-02 01:00:00</td>\n",
       "      <td>Sunday</td>\n",
       "      <td>6</td>\n",
       "    </tr>\n",
       "  </tbody>\n",
       "</table>\n",
       "</div>"
      ],
      "text/plain": [
       "                  domain                Time       Day  DayIndex\n",
       "0        www.netflix.com 2019-05-30 17:18:00  Thursday         3\n",
       "1        www.netflix.com 2019-05-30 17:20:00  Thursday         3\n",
       "2  account.microsoft.com 2019-05-31 21:56:00    Friday         4\n",
       "3     www.autotrader.com 2019-06-01 18:44:00  Saturday         5\n",
       "4       opm.myidcare.com 2019-06-02 01:00:00    Sunday         6"
      ]
     },
     "execution_count": 13,
     "metadata": {},
     "output_type": "execute_result"
    }
   ],
   "source": [
    "df['Day'] = [ d.day_name() for d in df['Time']]\n",
    "df['DayIndex'] = [ d.dayofweek for d in df['Time']]\n",
    "df.head()"
   ]
  },
  {
   "cell_type": "code",
   "execution_count": 14,
   "metadata": {},
   "outputs": [
    {
     "data": {
      "text/plain": [
       "Wednesday    1174\n",
       "Thursday      643\n",
       "Sunday        622\n",
       "Tuesday       429\n",
       "Saturday      386\n",
       "Friday        372\n",
       "Monday        263\n",
       "Name: Day, dtype: int64"
      ]
     },
     "execution_count": 14,
     "metadata": {},
     "output_type": "execute_result"
    }
   ],
   "source": [
    "df['Day'].value_counts()"
   ]
  },
  {
   "cell_type": "code",
   "execution_count": 15,
   "metadata": {},
   "outputs": [
    {
     "data": {
      "text/plain": [
       "0     263\n",
       "1     429\n",
       "2    1174\n",
       "3     643\n",
       "4     372\n",
       "5     386\n",
       "6     622\n",
       "Name: DayIndex, dtype: int64"
      ]
     },
     "execution_count": 15,
     "metadata": {},
     "output_type": "execute_result"
    }
   ],
   "source": [
    "days_sorted = df['DayIndex'].value_counts().sort_index()\n",
    "days_sorted"
   ]
  },
  {
   "cell_type": "code",
   "execution_count": 16,
   "metadata": {},
   "outputs": [
    {
     "data": {
      "image/png": "[encoded data removed]",
      "text/plain": [
       "<Figure size 432x288 with 1 Axes>"
      ]
     },
     "metadata": {
      "needs_background": "light"
     },
     "output_type": "display_data"
    }
   ],
   "source": [
    "days_sorted.plot.bar()\n",
    "plt.xticks(days_sorted.index, ['M', 'T', 'W','Th', 'F', 'Sa', 'Su'], rotation=0)\n",
    "\n",
    "plt.show()"
   ]
  },
  {
   "cell_type": "code",
   "execution_count": 17,
   "metadata": {},
   "outputs": [
    {
     "data": {
      "text/html": [
       "<div>\n",
       "<style scoped>\n",
       "    .dataframe tbody tr th:only-of-type {\n",
       "        vertical-align: middle;\n",
       "    }\n",
       "\n",
       "    .dataframe tbody tr th {\n",
       "        vertical-align: top;\n",
       "    }\n",
       "\n",
       "    .dataframe thead th {\n",
       "        text-align: right;\n",
       "    }\n",
       "</style>\n",
       "<table border=\"1\" class=\"dataframe\">\n",
       "  <thead>\n",
       "    <tr style=\"text-align: right;\">\n",
       "      <th></th>\n",
       "      <th>domain</th>\n",
       "      <th>Time</th>\n",
       "      <th>Day</th>\n",
       "      <th>DayIndex</th>\n",
       "      <th>isWeekend</th>\n",
       "    </tr>\n",
       "  </thead>\n",
       "  <tbody>\n",
       "    <tr>\n",
       "      <th>0</th>\n",
       "      <td>www.netflix.com</td>\n",
       "      <td>2019-05-30 17:18:00</td>\n",
       "      <td>Thursday</td>\n",
       "      <td>3</td>\n",
       "      <td>False</td>\n",
       "    </tr>\n",
       "    <tr>\n",
       "      <th>1</th>\n",
       "      <td>www.netflix.com</td>\n",
       "      <td>2019-05-30 17:20:00</td>\n",
       "      <td>Thursday</td>\n",
       "      <td>3</td>\n",
       "      <td>False</td>\n",
       "    </tr>\n",
       "    <tr>\n",
       "      <th>2</th>\n",
       "      <td>account.microsoft.com</td>\n",
       "      <td>2019-05-31 21:56:00</td>\n",
       "      <td>Friday</td>\n",
       "      <td>4</td>\n",
       "      <td>False</td>\n",
       "    </tr>\n",
       "    <tr>\n",
       "      <th>3</th>\n",
       "      <td>www.autotrader.com</td>\n",
       "      <td>2019-06-01 18:44:00</td>\n",
       "      <td>Saturday</td>\n",
       "      <td>5</td>\n",
       "      <td>True</td>\n",
       "    </tr>\n",
       "    <tr>\n",
       "      <th>4</th>\n",
       "      <td>opm.myidcare.com</td>\n",
       "      <td>2019-06-02 01:00:00</td>\n",
       "      <td>Sunday</td>\n",
       "      <td>6</td>\n",
       "      <td>True</td>\n",
       "    </tr>\n",
       "  </tbody>\n",
       "</table>\n",
       "</div>"
      ],
      "text/plain": [
       "                  domain                Time       Day  DayIndex  isWeekend\n",
       "0        www.netflix.com 2019-05-30 17:18:00  Thursday         3      False\n",
       "1        www.netflix.com 2019-05-30 17:20:00  Thursday         3      False\n",
       "2  account.microsoft.com 2019-05-31 21:56:00    Friday         4      False\n",
       "3     www.autotrader.com 2019-06-01 18:44:00  Saturday         5       True\n",
       "4       opm.myidcare.com 2019-06-02 01:00:00    Sunday         6       True"
      ]
     },
     "execution_count": 17,
     "metadata": {},
     "output_type": "execute_result"
    }
   ],
   "source": [
    "def is_weekend(day): \n",
    "    return day in ['Saturday', 'Sunday']\n",
    "\n",
    "\n",
    "df['isWeekend'] = [ is_weekend(i) for i in df['Day']]\n",
    "df.head()"
   ]
  },
  {
   "cell_type": "code",
   "execution_count": 18,
   "metadata": {},
   "outputs": [],
   "source": [
    "weekend = df[ df['isWeekend'] == True ]\n",
    "\n",
    "weekday = df[ df['isWeekend'] == False ]\n"
   ]
  },
  {
   "cell_type": "code",
   "execution_count": 19,
   "metadata": {},
   "outputs": [
    {
     "data": {
      "text/html": [
       "<div>\n",
       "<style scoped>\n",
       "    .dataframe tbody tr th:only-of-type {\n",
       "        vertical-align: middle;\n",
       "    }\n",
       "\n",
       "    .dataframe tbody tr th {\n",
       "        vertical-align: top;\n",
       "    }\n",
       "\n",
       "    .dataframe thead th {\n",
       "        text-align: right;\n",
       "    }\n",
       "</style>\n",
       "<table border=\"1\" class=\"dataframe\">\n",
       "  <thead>\n",
       "    <tr style=\"text-align: right;\">\n",
       "      <th></th>\n",
       "      <th>domain</th>\n",
       "      <th>Time</th>\n",
       "      <th>Day</th>\n",
       "      <th>DayIndex</th>\n",
       "      <th>isWeekend</th>\n",
       "    </tr>\n",
       "  </thead>\n",
       "  <tbody>\n",
       "    <tr>\n",
       "      <th>3</th>\n",
       "      <td>www.autotrader.com</td>\n",
       "      <td>2019-06-01 18:44:00</td>\n",
       "      <td>Saturday</td>\n",
       "      <td>5</td>\n",
       "      <td>True</td>\n",
       "    </tr>\n",
       "    <tr>\n",
       "      <th>4</th>\n",
       "      <td>opm.myidcare.com</td>\n",
       "      <td>2019-06-02 01:00:00</td>\n",
       "      <td>Sunday</td>\n",
       "      <td>6</td>\n",
       "      <td>True</td>\n",
       "    </tr>\n",
       "    <tr>\n",
       "      <th>5</th>\n",
       "      <td>downdetector.com</td>\n",
       "      <td>2019-06-02 15:21:00</td>\n",
       "      <td>Sunday</td>\n",
       "      <td>6</td>\n",
       "      <td>True</td>\n",
       "    </tr>\n",
       "    <tr>\n",
       "      <th>6</th>\n",
       "      <td>downdetector.com</td>\n",
       "      <td>2019-06-02 15:45:00</td>\n",
       "      <td>Sunday</td>\n",
       "      <td>6</td>\n",
       "      <td>True</td>\n",
       "    </tr>\n",
       "    <tr>\n",
       "      <th>8</th>\n",
       "      <td>account.microsoft.com</td>\n",
       "      <td>2019-06-09 14:32:00</td>\n",
       "      <td>Sunday</td>\n",
       "      <td>6</td>\n",
       "      <td>True</td>\n",
       "    </tr>\n",
       "  </tbody>\n",
       "</table>\n",
       "</div>"
      ],
      "text/plain": [
       "                  domain                Time       Day  DayIndex  isWeekend\n",
       "3     www.autotrader.com 2019-06-01 18:44:00  Saturday         5       True\n",
       "4       opm.myidcare.com 2019-06-02 01:00:00    Sunday         6       True\n",
       "5       downdetector.com 2019-06-02 15:21:00    Sunday         6       True\n",
       "6       downdetector.com 2019-06-02 15:45:00    Sunday         6       True\n",
       "8  account.microsoft.com 2019-06-09 14:32:00    Sunday         6       True"
      ]
     },
     "execution_count": 19,
     "metadata": {},
     "output_type": "execute_result"
    }
   ],
   "source": [
    "weekend.head()"
   ]
  },
  {
   "cell_type": "code",
   "execution_count": 20,
   "metadata": {},
   "outputs": [
    {
     "data": {
      "text/plain": [
       "duckduckgo.com         343\n",
       "www.reddit.com         243\n",
       "www.bing.com           232\n",
       "blackboard.umbc.edu    151\n",
       "mail.google.com        150\n",
       "Name: domain, dtype: int64"
      ]
     },
     "execution_count": 20,
     "metadata": {},
     "output_type": "execute_result"
    }
   ],
   "source": [
    "weekday['domain'].value_counts()[:5]"
   ]
  },
  {
   "cell_type": "code",
   "execution_count": 21,
   "metadata": {},
   "outputs": [
    {
     "data": {
      "text/plain": [
       "duckduckgo.com      92\n",
       "www.google.com      91\n",
       "www.youtube.com     54\n",
       "www.gigabyte.com    52\n",
       "github.com          48\n",
       "Name: domain, dtype: int64"
      ]
     },
     "execution_count": 21,
     "metadata": {},
     "output_type": "execute_result"
    }
   ],
   "source": [
    "weekend['domain'].value_counts()[:5]"
   ]
  },
  {
   "cell_type": "code",
   "execution_count": 22,
   "metadata": {},
   "outputs": [
    {
     "data": {
      "image/png": "[encoded data removed]",
      "text/plain": [
       "<Figure size 432x288 with 1 Axes>"
      ]
     },
     "metadata": {
      "needs_background": "light"
     },
     "output_type": "display_data"
    }
   ],
   "source": [
    "def show_stats(df, color, alpha=1):\n",
    "    hourly_counts = df.groupby(df.Time.dt.hour).domain.size()\n",
    "    \n",
    "    # fill in the missing hours\n",
    "    for h in range(24):\n",
    "        if h not in hourly_counts:\n",
    "            hourly_counts[h]=0 # I initially didn't do this and hours were not lining up\n",
    "            \n",
    "    hourly_counts.sort_index().plot.bar(color=color, alpha=alpha)\n",
    "    plt.ylim([0, 1300])\n",
    "\n",
    "    \n",
    "show_stats(weekend, 'red', 1)\n",
    "    \n",
    "show_stats(weekday, 'blue', 0.5)\n"
   ]
  },
  {
   "cell_type": "code",
   "execution_count": 23,
   "metadata": {},
   "outputs": [],
   "source": [
    "# be skeptical about your data!\n",
    "# am I on computer a lot more on the weekdays \n",
    "# or it shows more simply becasue there are more weekdays "
   ]
  },
  {
   "cell_type": "code",
   "execution_count": 24,
   "metadata": {},
   "outputs": [
    {
     "data": {
      "image/png": "[encoded data removed]",
      "text/plain": [
       "<Figure size 432x288 with 1 Axes>"
      ]
     },
     "metadata": {
      "needs_background": "light"
     },
     "output_type": "display_data"
    },
    {
     "data": {
      "image/png": "[encoded data removed]",
      "text/plain": [
       "<Figure size 432x288 with 1 Axes>"
      ]
     },
     "metadata": {
      "needs_background": "light"
     },
     "output_type": "display_data"
    }
   ],
   "source": [
    "def show_stats(df, color, alpha=1, title='', y_lim = None):\n",
    "    hourly_counts = df.groupby(df.Time.dt.hour).domain.size()\n",
    "    \n",
    "    days_counts = df.Time.dt.date.nunique()\n",
    "    \n",
    "    # fill in the missing hours\n",
    "    for h in range(24):\n",
    "        if h not in hourly_counts:\n",
    "            hourly_counts[h]=0 # I initially didn't do this and hours were not lining up\n",
    "        else: \n",
    "            hourly_counts[h] = hourly_counts[h] * 100.0 /  days_counts # I multiplied by 100.0 to make it float and also not to loose decimals\n",
    "            \n",
    "    hourly_counts.sort_index().plot.bar(color=color, alpha=alpha, title=title)\n",
    "    \n",
    "    if y_lim != None:\n",
    "        plt.ylim(y_lim)\n",
    "    plt.show()\n",
    "\n",
    "\n",
    "    \n",
    "y_lim=[0, 1800]\n",
    "show_stats(weekend, 'red', 1, 'Weekend', y_lim=y_lim)\n",
    "    \n",
    "show_stats(weekday, 'blue', 0.5, 'Weekday', y_lim=y_lim)"
   ]
  },
  {
   "cell_type": "code",
   "execution_count": 32,
   "metadata": {},
   "outputs": [
    {
     "data": {
      "text/plain": [
       "duckduckgo.com                   435\n",
       "www.bing.com                     253\n",
       "www.reddit.com                   243\n",
       "mail.google.com                  183\n",
       "blackboard.umbc.edu              175\n",
       "www.youtube.com                  175\n",
       "www.google.com                   163\n",
       "www.gigabyte.com                 137\n",
       "github.com                       134\n",
       "account.microsoft.com             80\n",
       "piazza.com                        80\n",
       "gamewithbutterfinger.com          69\n",
       "smile.amazon.com                  64\n",
       "www.netflix.com                   45\n",
       "2020.internethealthreport.org     44\n",
       "opm.myidcare.com                  44\n",
       "localhost:8888                    38\n",
       "central.bitdefender.com           37\n",
       "online.citi.com                   37\n",
       "www.thankyou.com                  37\n",
       "www.microsoft.com                 28\n",
       "imgur.com                         27\n",
       "drive.google.com                  27\n",
       "www.intel.com                     27\n",
       "www.jstor.org                     26\n",
       "www.apc.com                       26\n",
       "myaccounts.capitalone.com         26\n",
       "192.168.0.232                     25\n",
       "arstechnica.com                   25\n",
       "my.umbc.edu                       20\n",
       "ggcs.gigabyte.com                 20\n",
       "play.hbomax.com                   20\n",
       "oltx.fidelity.com                 20\n",
       "carsandbids.com                   20\n",
       "www.anandtech.com                 20\n",
       "owl.purdue.edu                    19\n",
       "webauth.umbc.edu                  18\n",
       "login.live.com                    17\n",
       "www.speedtest.net                 17\n",
       "www.bestbuy.com                   17\n",
       "www.calvin.edu                    16\n",
       "www.w3schools.com                 15\n",
       "accounts.google.com               15\n",
       "eds.a.ebscohost.com               15\n",
       "weather.com                       15\n",
       "sfederation.intel.com             14\n",
       "www.nicehash.com                  13\n",
       "www.census.gov                    13\n",
       "stackoverflow.com                 12\n",
       "support.microsoft.com             12\n",
       "Name: domain, dtype: int64"
      ]
     },
     "execution_count": 32,
     "metadata": {},
     "output_type": "execute_result"
    }
   ],
   "source": [
    "df['domain'].value_counts()[:50]"
   ]
  },
  {
   "cell_type": "code",
   "execution_count": null,
   "metadata": {},
   "outputs": [],
   "source": []
  },
  {
   "cell_type": "code",
   "execution_count": 26,
   "metadata": {},
   "outputs": [],
   "source": [
    "df['domain'] = df['domain'].astype(str)"
   ]
  },
  {
   "cell_type": "code",
   "execution_count": 27,
   "metadata": {},
   "outputs": [],
   "source": [
    "def get_data_for_domain(val):\n",
    "    return df[ [True if val.lower() in i.lower() else False for i in df['domain'] ]]\n",
    "\n",
    "\n",
    "def show_domain_stats(domain, color='blue', alpha=1):\n",
    "    data = get_data_for_domain(domain)\n",
    "    show_stats(data, color, alpha)\n",
    "    return data"
   ]
  },
  {
   "cell_type": "code",
   "execution_count": 28,
   "metadata": {},
   "outputs": [
    {
     "data": {
      "image/png": "[encoded data removed]",
      "text/plain": [
       "<Figure size 432x288 with 1 Axes>"
      ]
     },
     "metadata": {
      "needs_background": "light"
     },
     "output_type": "display_data"
    }
   ],
   "source": [
    "_= show_domain_stats('facebook', 'blue')"
   ]
  },
  {
   "cell_type": "code",
   "execution_count": null,
   "metadata": {},
   "outputs": [],
   "source": []
  },
  {
   "cell_type": "code",
   "execution_count": 29,
   "metadata": {},
   "outputs": [
    {
     "data": {
      "image/png": "[encoded data removed]",
      "text/plain": [
       "<Figure size 432x288 with 1 Axes>"
      ]
     },
     "metadata": {
      "needs_background": "light"
     },
     "output_type": "display_data"
    }
   ],
   "source": [
    "_ = show_domain_stats('stackover', 'magenta')\n"
   ]
  },
  {
   "cell_type": "code",
   "execution_count": 30,
   "metadata": {},
   "outputs": [
    {
     "data": {
      "image/png": "[encoded data removed]",
      "text/plain": [
       "<Figure size 432x288 with 1 Axes>"
      ]
     },
     "metadata": {
      "needs_background": "light"
     },
     "output_type": "display_data"
    }
   ],
   "source": [
    "_ = show_domain_stats('netflix', 'red')\n"
   ]
  },
  {
   "cell_type": "code",
   "execution_count": 31,
   "metadata": {},
   "outputs": [
    {
     "data": {
      "image/png": "[encoded data removed]",
      "text/plain": [
       "<Figure size 432x288 with 1 Axes>"
      ]
     },
     "metadata": {
      "needs_background": "light"
     },
     "output_type": "display_data"
    }
   ],
   "source": [
    "_=show_domain_stats('amazon', 'black')"
   ]
  },
  {
   "cell_type": "markdown",
   "metadata": {},
   "source": [
    "### Based on data, what can we tell about this person?\n",
    "\n",
    "1. Is this a work computer/personal computer?\n",
    "##### Personal computer.\n",
    "1. Is s/he employed?\n",
    "##### This person is probably employed  \n",
    "1. What are his/her interests?\n",
    "##### this person has varied interest from Cybersecurity, cryptocurrency, TechGadgets, Books\n",
    "1. List any interesting findings\n",
    "##### This person is not active in social media via laptop. \n",
    "##### spends more time at night watching netflix,HBOMax vedio streaming platform. \n",
    "##### This individual probably might have account at Citi bank\n",
    "##### This person is techhardware savy probably a gamer? \n"
   ]
  },
  {
   "cell_type": "markdown",
   "metadata": {},
   "source": [
    "answer here"
   ]
  },
  {
   "cell_type": "code",
   "execution_count": null,
   "metadata": {},
   "outputs": [],
   "source": []
  }
 ],
 "metadata": {
  "kernelspec": {
   "display_name": "Python 3",
   "language": "python",
   "name": "python3"
  },
  "language_info": {
   "codemirror_mode": {
    "name": "ipython",
    "version": 3
   },
   "file_extension": ".py",
   "mimetype": "text/x-python",
   "name": "python",
   "nbconvert_exporter": "python",
   "pygments_lexer": "ipython3",
   "version": "3.7.0"
  },
  "varInspector": {
   "cols": {
    "lenName": 16,
    "lenType": 16,
    "lenVar": 40
   },
   "kernels_config": {
    "python": {
     "delete_cmd_postfix": "",
     "delete_cmd_prefix": "del ",
     "library": "var_list.py",
     "varRefreshCmd": "print(var_dic_list())"
    },
    "r": {
     "delete_cmd_postfix": ") ",
     "delete_cmd_prefix": "rm(",
     "library": "var_list.r",
     "varRefreshCmd": "cat(var_dic_list()) "
    }
   },
   "types_to_exclude": [
    "module",
    "function",
    "builtin_function_or_method",
    "instance",
    "_Feature"
   ],
   "window_display": false
  }
 },
 "nbformat": 4,
 "nbformat_minor": 2
}
