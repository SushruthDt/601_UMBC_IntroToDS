{
 "cells": [
  {
   "cell_type": "markdown",
   "metadata": {},
   "source": [
    "# Homework: scaling file I/O experiment Part1\n",
    "\n",
    "\n",
    "Write Python code that can create a CSV containing 10 columns of text data\n",
    "Each entry in each row should be between 3 and 25 characters. The characters should be a mix of numeric and non-numeric. (Having all numeric data is not allowed.)\n",
    "Adjacent rows in a CSV should not be the same\n",
    "Generate files of size {0.1, 1, 5, 10, 100, 500} MB of data\n",
    "Execution time for creating all of the CSV files should take less than 5 minutes.\n",
    "Measure how much time it takes to write each CSV file to disk. In your measurement do not include the time used in creating the CSV files. Perform this measurement three times per file size. Each measurement is of a different CSV.\n",
    "Measure how much time it takes for your computer to load the data into a Pandas dataframe. Perform this measurement three times per file size. Each measurement is of a different CSV.\n",
    "\n",
    "\n",
    "Results: \n",
    "table of values (file size versus read time and write time for each experiment) \n",
    "\n",
    "Plot the average write times and average load times versus file size in a single plot\n"
   ]
  },
  {
   "cell_type": "code",
   "execution_count": 1,
   "metadata": {},
   "outputs": [],
   "source": [
    "\n",
    "import pandas as pd\n",
    "import string\n",
    "import matplotlib.pyplot as plt\n",
    "import random as rand\n",
    "from faker import Faker\n",
    "fake = Faker()"
   ]
  },
  {
   "cell_type": "code",
   "execution_count": 2,
   "metadata": {},
   "outputs": [],
   "source": [
    "from csv import writer\n",
    "from random import sample, randrange\n"
   ]
  },
  {
   "cell_type": "code",
   "execution_count": 3,
   "metadata": {},
   "outputs": [],
   "source": [
    "import time\n",
    "import os"
   ]
  },
  {
   "cell_type": "code",
   "execution_count": null,
   "metadata": {},
   "outputs": [],
   "source": []
  },
  {
   "cell_type": "code",
   "execution_count": 4,
   "metadata": {},
   "outputs": [],
   "source": [
    "#Function to generate fake data\n",
    "def generate_fake_data(row = 50):\n",
    "    import random\n",
    "    global timetowritefiles\n",
    "    global timetoreadfiles\n",
    "    fake = Faker()\n",
    "    output = [{    'name':fake.name(),\n",
    "                    'date':fake.date(),\n",
    "                    'country':fake.country(),\n",
    "                    'company':fake.company(),\n",
    "                    'city':fake.city(),\n",
    "                     'email':fake.ascii_email(),              \n",
    "                      'ID':''.join(random.choice('0123456789ABCDEF') for i in range(10)),\n",
    "                    'domain name':fake.domain_name(),\n",
    "                    'day of month':fake.day_of_month(),\n",
    "                   'CarReg':''.join(random.choice('0123456789ABCDEF') for i in range(10))} for x in range(row)]\n",
    "    return output"
   ]
  },
  {
   "cell_type": "code",
   "execution_count": 5,
   "metadata": {},
   "outputs": [],
   "source": [
    "\n",
    "#Function to write fake data into CSV files in 10 columns\n",
    "def write_to_CSV(size, file):\n",
    "\n",
    "    with open(file, 'w') as v:\n",
    "        write = writer(v)\n",
    "        start = time.time()\n",
    "        data=generate_fake_data()\n",
    "        while True:\n",
    "                if round(os.path.getsize(file)/(1024*1024),2) < size:\n",
    "                    write.writerow(data)\n",
    "                   # write.writerows(data)\n",
    "                    \n",
    "                else:\n",
    "                    end = time.time()\n",
    "                    size1=round(os.path.getsize(file)/(1024*1024),2)\n",
    "                    break\n",
    "    return round(end-start,3)"
   ]
  },
  {
   "cell_type": "code",
   "execution_count": 13,
   "metadata": {},
   "outputs": [],
   "source": [
    "#function capturing readtime\n",
    "def readtime(size_type):\n",
    "    content={}\n",
    "    read_size = pd.DataFrame(index=['0.1MB','1.0MB','5.0MB', '10.0MB','100.0MB','500.0MB'],columns=['1','2','3'])\n",
    "    for size in size_type:\n",
    "        k=1\n",
    "        for j in range(3):\n",
    "            file = \"DataFile_\" + str(size)+ '_' + str(k)+\".csv\"\n",
    "            start_time = time.time()\n",
    "            content = pd.read_csv(file)\n",
    "            MB=(str(size) + 'MB')\n",
    "            k=k+1\n",
    "            print(file + \" - completed\")\n",
    "            read_size.loc[MB][j] = time.time() - start_time\n",
    "    print(\"********************\")\n",
    "    print(\"Readtime function end\")\n",
    "    return read_size\n",
    "    "
   ]
  },
  {
   "cell_type": "code",
   "execution_count": 7,
   "metadata": {},
   "outputs": [],
   "source": [
    "def writetime(size_type):\n",
    "    write_size = pd.DataFrame(index=['0.1MB','1.0MB','5.0MB', '10.0MB','100.0MB','500.0MB'],columns=['1','2','3'])\n",
    "    for size in size_type:\n",
    "        k=1\n",
    "        for j in range(3):\n",
    "            file = \"DataFile_\" + str(size)+ '_' + str(k)+\".csv\"\n",
    "            write_time = write_to_CSV(size,file)\n",
    "            MB=(str(size) + 'MB')\n",
    "            write_size.loc[MB][j] = write_time\n",
    "            k=k+1\n",
    "            print(file + \" - completed\")\n",
    "    print(\"********************\")\n",
    "    print(\"Writetime function end\")\n",
    "\n",
    "    return write_size"
   ]
  },
  {
   "cell_type": "code",
   "execution_count": 8,
   "metadata": {},
   "outputs": [
    {
     "name": "stdout",
     "output_type": "stream",
     "text": [
      "DataFile_0.1_1.csv - completed\n",
      "DataFile_0.1_2.csv - completed\n",
      "DataFile_0.1_3.csv - completed\n",
      "DataFile_1.0_1.csv - completed\n",
      "DataFile_1.0_2.csv - completed\n",
      "DataFile_1.0_3.csv - completed\n",
      "DataFile_5.0_1.csv - completed\n",
      "DataFile_5.0_2.csv - completed\n",
      "DataFile_5.0_3.csv - completed\n",
      "DataFile_10.0_1.csv - completed\n",
      "DataFile_10.0_2.csv - completed\n",
      "DataFile_10.0_3.csv - completed\n",
      "DataFile_100.0_1.csv - completed\n",
      "DataFile_100.0_2.csv - completed\n",
      "DataFile_100.0_3.csv - completed\n",
      "DataFile_500.0_1.csv - completed\n",
      "DataFile_500.0_2.csv - completed\n",
      "DataFile_500.0_3.csv - completed\n",
      "********************\n",
      "Writetime function end\n"
     ]
    }
   ],
   "source": [
    "size_type = [.1,1.0,5.0, 10.0,100.0,500.0]\n",
    "write_size=writetime(size_type)"
   ]
  },
  {
   "cell_type": "code",
   "execution_count": 9,
   "metadata": {},
   "outputs": [
    {
     "data": {
      "text/html": [
       "<div>\n",
       "<style scoped>\n",
       "    .dataframe tbody tr th:only-of-type {\n",
       "        vertical-align: middle;\n",
       "    }\n",
       "\n",
       "    .dataframe tbody tr th {\n",
       "        vertical-align: top;\n",
       "    }\n",
       "\n",
       "    .dataframe thead th {\n",
       "        text-align: right;\n",
       "    }\n",
       "</style>\n",
       "<table border=\"1\" class=\"dataframe\">\n",
       "  <thead>\n",
       "    <tr style=\"text-align: right;\">\n",
       "      <th></th>\n",
       "      <th>1</th>\n",
       "      <th>2</th>\n",
       "      <th>3</th>\n",
       "    </tr>\n",
       "  </thead>\n",
       "  <tbody>\n",
       "    <tr>\n",
       "      <th>0.1MB</th>\n",
       "      <td>0.27</td>\n",
       "      <td>0.193</td>\n",
       "      <td>0.173</td>\n",
       "    </tr>\n",
       "    <tr>\n",
       "      <th>1.0MB</th>\n",
       "      <td>0.251</td>\n",
       "      <td>0.295</td>\n",
       "      <td>0.253</td>\n",
       "    </tr>\n",
       "    <tr>\n",
       "      <th>5.0MB</th>\n",
       "      <td>0.601</td>\n",
       "      <td>0.677</td>\n",
       "      <td>0.633</td>\n",
       "    </tr>\n",
       "    <tr>\n",
       "      <th>10.0MB</th>\n",
       "      <td>1.015</td>\n",
       "      <td>1.007</td>\n",
       "      <td>1.175</td>\n",
       "    </tr>\n",
       "    <tr>\n",
       "      <th>100.0MB</th>\n",
       "      <td>9.132</td>\n",
       "      <td>12.678</td>\n",
       "      <td>11.583</td>\n",
       "    </tr>\n",
       "    <tr>\n",
       "      <th>500.0MB</th>\n",
       "      <td>50.459</td>\n",
       "      <td>59.483</td>\n",
       "      <td>59.845</td>\n",
       "    </tr>\n",
       "  </tbody>\n",
       "</table>\n",
       "</div>"
      ],
      "text/plain": [
       "              1       2       3\n",
       "0.1MB      0.27   0.193   0.173\n",
       "1.0MB     0.251   0.295   0.253\n",
       "5.0MB     0.601   0.677   0.633\n",
       "10.0MB    1.015   1.007   1.175\n",
       "100.0MB   9.132  12.678  11.583\n",
       "500.0MB  50.459  59.483  59.845"
      ]
     },
     "execution_count": 9,
     "metadata": {},
     "output_type": "execute_result"
    }
   ],
   "source": [
    "write_size"
   ]
  },
  {
   "cell_type": "code",
   "execution_count": 10,
   "metadata": {},
   "outputs": [
    {
     "data": {
      "text/plain": [
       "0.1MB       0.212000\n",
       "1.0MB       0.266333\n",
       "5.0MB       0.637000\n",
       "10.0MB      1.065667\n",
       "100.0MB    11.131000\n",
       "500.0MB    56.595667\n",
       "dtype: float64"
      ]
     },
     "execution_count": 10,
     "metadata": {},
     "output_type": "execute_result"
    }
   ],
   "source": [
    "write_mean = write_size.mean(axis=1)\n",
    "write_mean"
   ]
  },
  {
   "cell_type": "code",
   "execution_count": 14,
   "metadata": {},
   "outputs": [
    {
     "name": "stdout",
     "output_type": "stream",
     "text": [
      "DataFile_0.1_1.csv - completed\n",
      "DataFile_0.1_2.csv - completed\n",
      "DataFile_0.1_3.csv - completed\n",
      "DataFile_1.0_1.csv - completed\n",
      "DataFile_1.0_2.csv - completed\n",
      "DataFile_1.0_3.csv - completed\n",
      "DataFile_5.0_1.csv - completed\n",
      "DataFile_5.0_2.csv - completed\n",
      "DataFile_5.0_3.csv - completed\n",
      "DataFile_10.0_1.csv - completed\n",
      "DataFile_10.0_2.csv - completed\n",
      "DataFile_10.0_3.csv - completed\n",
      "DataFile_100.0_1.csv - completed\n",
      "DataFile_100.0_2.csv - completed\n",
      "DataFile_100.0_3.csv - completed\n",
      "DataFile_500.0_1.csv - completed\n",
      "DataFile_500.0_2.csv - completed\n",
      "DataFile_500.0_3.csv - completed\n",
      "********************\n",
      "Readtime function end\n"
     ]
    }
   ],
   "source": [
    "read_size=readtime(size_type)"
   ]
  },
  {
   "cell_type": "code",
   "execution_count": 15,
   "metadata": {},
   "outputs": [
    {
     "data": {
      "text/html": [
       "<div>\n",
       "<style scoped>\n",
       "    .dataframe tbody tr th:only-of-type {\n",
       "        vertical-align: middle;\n",
       "    }\n",
       "\n",
       "    .dataframe tbody tr th {\n",
       "        vertical-align: top;\n",
       "    }\n",
       "\n",
       "    .dataframe thead th {\n",
       "        text-align: right;\n",
       "    }\n",
       "</style>\n",
       "<table border=\"1\" class=\"dataframe\">\n",
       "  <thead>\n",
       "    <tr style=\"text-align: right;\">\n",
       "      <th></th>\n",
       "      <th>1</th>\n",
       "      <th>2</th>\n",
       "      <th>3</th>\n",
       "    </tr>\n",
       "  </thead>\n",
       "  <tbody>\n",
       "    <tr>\n",
       "      <th>0.1MB</th>\n",
       "      <td>0.0275218</td>\n",
       "      <td>0.0140073</td>\n",
       "      <td>0.012511</td>\n",
       "    </tr>\n",
       "    <tr>\n",
       "      <th>1.0MB</th>\n",
       "      <td>0.0250168</td>\n",
       "      <td>0.023514</td>\n",
       "      <td>0.0220158</td>\n",
       "    </tr>\n",
       "    <tr>\n",
       "      <th>5.0MB</th>\n",
       "      <td>0.0710528</td>\n",
       "      <td>0.0785532</td>\n",
       "      <td>0.0680652</td>\n",
       "    </tr>\n",
       "    <tr>\n",
       "      <th>10.0MB</th>\n",
       "      <td>0.123104</td>\n",
       "      <td>0.162671</td>\n",
       "      <td>0.157557</td>\n",
       "    </tr>\n",
       "    <tr>\n",
       "      <th>100.0MB</th>\n",
       "      <td>1.31275</td>\n",
       "      <td>1.18484</td>\n",
       "      <td>1.16489</td>\n",
       "    </tr>\n",
       "    <tr>\n",
       "      <th>500.0MB</th>\n",
       "      <td>5.85042</td>\n",
       "      <td>5.72081</td>\n",
       "      <td>5.35534</td>\n",
       "    </tr>\n",
       "  </tbody>\n",
       "</table>\n",
       "</div>"
      ],
      "text/plain": [
       "                 1          2          3\n",
       "0.1MB    0.0275218  0.0140073   0.012511\n",
       "1.0MB    0.0250168   0.023514  0.0220158\n",
       "5.0MB    0.0710528  0.0785532  0.0680652\n",
       "10.0MB    0.123104   0.162671   0.157557\n",
       "100.0MB    1.31275    1.18484    1.16489\n",
       "500.0MB    5.85042    5.72081    5.35534"
      ]
     },
     "execution_count": 15,
     "metadata": {},
     "output_type": "execute_result"
    }
   ],
   "source": [
    "read_size"
   ]
  },
  {
   "cell_type": "code",
   "execution_count": 16,
   "metadata": {},
   "outputs": [
    {
     "data": {
      "text/plain": [
       "0.1MB      0.018013\n",
       "1.0MB      0.023516\n",
       "5.0MB      0.072557\n",
       "10.0MB     0.147777\n",
       "100.0MB    1.220826\n",
       "500.0MB    5.642190\n",
       "dtype: float64"
      ]
     },
     "execution_count": 16,
     "metadata": {},
     "output_type": "execute_result"
    }
   ],
   "source": [
    "read_mean = read_size.mean(axis=1)\n",
    "read_mean"
   ]
  },
  {
   "cell_type": "code",
   "execution_count": null,
   "metadata": {},
   "outputs": [],
   "source": []
  },
  {
   "cell_type": "code",
   "execution_count": 22,
   "metadata": {},
   "outputs": [
    {
     "data": {
      "image/png": "[encoded data removed]",
      "text/plain": [
       "<Figure size 432x288 with 1 Axes>"
      ]
     },
     "metadata": {
      "needs_background": "light"
     },
     "output_type": "display_data"
    }
   ],
   "source": [
    "listofsizes= [0.1, 1, 5, 10,100,500]\n",
    "l1= plt.plot(write_mean,listofsizes,label=\"file size vs meanwritetime \")\n",
    "l2 = plt.plot(read_mean,listofsizes,label=\"file size vs meanreadtime \")\n",
    "plt.gcf().autofmt_xdate()\n",
    "plt.ylabel('File Size ')\n",
    "plt.xlabel('time - seconds')\n",
    "plot.set_title('Mean CSV file R/W time')\n",
    "plt.legend()\n",
    "plt.show()"
   ]
  }
 ],
 "metadata": {
  "kernelspec": {
   "display_name": "Python 3",
   "language": "python",
   "name": "python3"
  },
  "language_info": {
   "codemirror_mode": {
    "name": "ipython",
    "version": 3
   },
   "file_extension": ".py",
   "mimetype": "text/x-python",
   "name": "python",
   "nbconvert_exporter": "python",
   "pygments_lexer": "ipython3",
   "version": "3.7.0"
  }
 },
 "nbformat": 4,
 "nbformat_minor": 2
}
